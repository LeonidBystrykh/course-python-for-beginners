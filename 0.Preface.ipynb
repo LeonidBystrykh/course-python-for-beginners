{
  "nbformat": 4,
  "nbformat_minor": 0,
  "metadata": {
    "kernelspec": {
      "display_name": "Python 3",
      "language": "python",
      "name": "python3"
    },
    "language_info": {
      "codemirror_mode": {
        "name": "ipython",
        "version": 3
      },
      "file_extension": ".py",
      "mimetype": "text/x-python",
      "name": "python",
      "nbconvert_exporter": "python",
      "pygments_lexer": "ipython3",
      "version": "3.8.2"
    },
    "colab": {
      "name": "0.Preface.ipynb",
      "provenance": []
    }
  },
  "cells": [
    {
      "cell_type": "markdown",
      "metadata": {
        "id": "pWTFyzESrQVD",
        "colab_type": "text"
      },
      "source": [
        "**I write this tutorial for biology master students and PhD students.**\n",
        "\n",
        "By education I am biologist. My language differs considerably from regular tech gurus populating media spaces. To my experience every profession should have a proper adaptation of the valuable common knowledge to their particular environment. This is what I try to do here.\n",
        "\n",
        "*_The entire course will be made of the jupyter notebook files._* All those files can be downloaded and executed locally as a legitimate python (jupyter notebook) script. The course is very basic and includes the minimal information required for biologist for future implementations. \n",
        "The minimal part consists of numbered scripts. Other scripts will be added at random.\n",
        "\n",
        "In order to begin python from scratch you need to learn 4 essential parts:\n",
        "1. Basic grammar. How to write what you want in style of python\n",
        "2. Operations with files. Open/close, read/write. Get your data from/to\n",
        "3. Scientific and other plots. Where you get all major types of plots, how they made, what is the concept.\n",
        "4. Using statistics. You have to use statistics anyway, whether you like it or not. Here is a small chapter how to begin with it.\n",
        "\n",
        "For more complete and more systematic information inquire official and unofficial sites and tutorials all over the internet. To keep it short I do not provide meters of links for each of those sites, which I mean. I think you can find them, or some of them even if you will try not to find them. This is probably inevitable as a light of another day.\n",
        "\n",
        "For proper reading of some statements through the files I presume a presence of a sence of humor. But if it does not resonate properly, my apologies in advance, I do not mean to hurt anyone.\n",
        "\n",
        "<h3>What is a jupyter notebook script?</h3>\n",
        "\n",
        "The structure of the jupyter book is such, that it combines fields of script (defined as \"code\") and fields of comments (as \"Markdown\"). <h5>The great advantage of a jupyter notebook for python scrits is its massive space reserved for comments, which supports the html notation and markdown notation. You can practice those notations on the way while writing you scripts (a.k.a. codes)</h5><br> \n",
        "\n",
        "Details of both notations can be found here: https://www.markdownguide.org/basic-syntax/\n",
        "\n",
        "So I can also use colors \n",
        "<span style=\"color: red;\">by using css style options</span>. \n",
        "In this way you can also <span style=\"color: blue;\">learn basics of html code next to the python</span>\n",
        "\n",
        "I still cannot find a spellcheck function for the mardown fields, which would work while I type in markdown fields. My apologies for overlooked typos.\n",
        "\n",
        "My default browser is **Mozilla Firefox**. Note that the performance of the script, especially graphics might change substantially in different browsers.\n",
        "\n",
        "<h3>Do I learn by reading?</h3>\n",
        "\n",
        "No, you have to download the files, install python and jupyter notebook on your laptop, open the script and try to go through the lines, change things, adapt to you data, and see what happens. The scripts here are possible prototypes for you to begin, you have to develop the skills of writing your scripts. \n",
        "\n",
        "But if you are already prolific with it, you can read this stuff, grin and scroll to other places.\n",
        "\n",
        "\n"
      ]
    },
    {
      "cell_type": "code",
      "metadata": {
        "id": "G0mCmdmgrQVH",
        "colab_type": "code",
        "colab": {}
      },
      "source": [
        "#this is the code field, and this is a comment to this code field"
      ],
      "execution_count": null,
      "outputs": []
    }
  ]
}