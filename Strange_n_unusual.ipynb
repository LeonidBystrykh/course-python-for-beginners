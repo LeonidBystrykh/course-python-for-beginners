{
 "cells": [
  {
   "cell_type": "markdown",
   "metadata": {},
   "source": [
    "<h3> Here is my eclectic collection of things I find strange or unusual.</h3> They all come in a random order, how I remember them.\n"
   ]
  },
  {
   "cell_type": "markdown",
   "metadata": {},
   "source": [
    "<h3> 1. Values as strings.</h3> In our mind we always know whether we imply string variable or value (integer or float). Python in case of trouble tends to define everything as string. The logics is such, that otherwise you run a risk of loosing variable value completely. It often happens when you open files, which contain strings and values. Usually they first read as strings, and you have to do some extra efforts (or use proper functions) to convert values to relevant types."
   ]
  },
  {
   "cell_type": "markdown",
   "metadata": {},
   "source": [
    "<h3>2.Counting from zero</h3>. There were multiple debates in the history of python, why we count items starting from zero, but the fact is, that we do count elements of the list starting from zero. Sure, it causes logical discomfort quite often:<br>\n",
    "Q: what is the index of first element in the list?<br>\n",
    "A: It is 0.<br>\n",
    "Q: Why don't we name the first element the first?<br>\n",
    "A: ??<br>\n",
    "Q: We run a loop from from range 0 to 5, is 5 included? <br>\n",
    "A: No. <br>\n",
    "Q: How many loops we run? <br>\n",
    "A: 5. <br>\n",
    "\n",
    "Probably the last answer is the key to the understanding of pros when starting counts from 0. In this regards it is useful to have a look how elements of the list are indexed.\n",
    "Lets check the following example:"
   ]
  },
  {
   "cell_type": "code",
   "execution_count": 19,
   "metadata": {},
   "outputs": [
    {
     "name": "stdout",
     "output_type": "stream",
     "text": [
      "my list of characters: \t['L', 'o', 'n', 'g', '_', 'W', 'o', 'r', 'd']\t9\n"
     ]
    }
   ],
   "source": [
    "mylist=list(\"Long_Word\")\n",
    "print(\"my list of characters: \", mylist, len(mylist), sep=\"\\t\")"
   ]
  },
  {
   "cell_type": "markdown",
   "metadata": {},
   "source": [
    "The very first character in this list is mylist[0], the second one is mylist[1], and so on:"
   ]
  },
  {
   "cell_type": "code",
   "execution_count": 20,
   "metadata": {},
   "outputs": [
    {
     "name": "stdout",
     "output_type": "stream",
     "text": [
      "ID\tChar\n",
      "0\tL\n",
      "1\to\n",
      "2\tn\n",
      "3\tg\n",
      "4\t_\n",
      "5\tW\n",
      "6\to\n",
      "7\tr\n",
      "8\td\n"
     ]
    }
   ],
   "source": [
    "print(\"ID\\tChar\")\n",
    "for i in range(len(mylist)):\n",
    "    print(i,mylist[i], sep=\"\\t\")\n",
    "    "
   ]
  },
  {
   "cell_type": "markdown",
   "metadata": {},
   "source": [
    "I know it feels a but uneasy, but this is a reality of python. Everything is shifted by one.\n",
    "Printing caracters in accenting range is not the only option. You can call the very same characters by counting from the end of the list. The very first character from the end will be \"-1\", the next one will be \"-2\" and so on."
   ]
  },
  {
   "cell_type": "code",
   "execution_count": 21,
   "metadata": {},
   "outputs": [
    {
     "name": "stdout",
     "output_type": "stream",
     "text": [
      "ID\tChar\n",
      "-1\td\n",
      "-2\tr\n",
      "-3\to\n",
      "-4\tW\n",
      "-5\t_\n",
      "-6\tg\n",
      "-7\tn\n",
      "-8\to\n",
      "-9\tL\n"
     ]
    }
   ],
   "source": [
    "print(\"ID\\tChar\")\n",
    "for i in range(len(mylist)):\n",
    "    #this way I make a reversed list and use a count from the end of the list\n",
    "    j=(i+1)*(-1)\n",
    "    print(j,mylist[j], sep=\"\\t\")"
   ]
  },
  {
   "cell_type": "markdown",
   "metadata": {},
   "source": [
    "It might feel weird, but it works. Also note, that we count in reverse starting from -1, not -0. Therefore we can say, counting in reverse is less strange or unusual. But the folloing notation is.\n",
    "\n",
    "<h3>3.Reversing the list with double slice</h3> We know by now how slicing works.\n",
    "for instance if we want the first 3 characters in the list we just used, we type mylist[:3], if we skip them, then it will be mylist[3:], and so on."
   ]
  },
  {
   "cell_type": "code",
   "execution_count": 22,
   "metadata": {},
   "outputs": [
    {
     "name": "stdout",
     "output_type": "stream",
     "text": [
      "['L', 'o', 'n']\n",
      "['g', '_', 'W', 'o', 'r', 'd']\n",
      "['n', 'g', '_']\n"
     ]
    }
   ],
   "source": [
    "#show first 3 characters\n",
    "print(mylist[:3])\n",
    "#skip first 3 characters\n",
    "print(mylist[3:])\n",
    "#skip first 2 and show next 3\n",
    "print(mylist[2:2+3])"
   ]
  },
  {
   "cell_type": "markdown",
   "metadata": {},
   "source": [
    "What if we want to reverse the list? What would be the function? Actually it works with slicing notation as follows:"
   ]
  },
  {
   "cell_type": "code",
   "execution_count": 23,
   "metadata": {},
   "outputs": [
    {
     "name": "stdout",
     "output_type": "stream",
     "text": [
      "['L', 'o', 'n', 'g', '_', 'W', 'o', 'r', 'd']\n",
      "['d', 'r', 'o', 'W', '_', 'g', 'n', 'o', 'L']\n"
     ]
    }
   ],
   "source": [
    "print(mylist)\n",
    "print(mylist[::-1])"
   ]
  },
  {
   "cell_type": "markdown",
   "metadata": {},
   "source": [
    "I cannot explain it to you how it works, but it works, so use it when you need it."
   ]
  },
  {
   "cell_type": "markdown",
   "metadata": {},
   "source": [
    "<h3>4. Skipped variables.</h3> We know that sume functions can contain several input variables, and return several output variables. For instance t-test:"
   ]
  },
  {
   "cell_type": "code",
   "execution_count": 24,
   "metadata": {},
   "outputs": [
    {
     "name": "stdout",
     "output_type": "stream",
     "text": [
      "t_test results: Ttest_indResult(statistic=-1.3416407864998738, pvalue=0.22825809896897356)\n"
     ]
    }
   ],
   "source": [
    "from scipy.stats import ttest_ind as t_test\n",
    "a=[1,2,2,3]\n",
    "b=[1,3,4,6]\n",
    "results=t_test(a,b)\n",
    "print(\"t_test results:\", results)"
   ]
  },
  {
   "cell_type": "markdown",
   "metadata": {},
   "source": [
    "We see, that results contain two values. Statistics in many cases has historical value, and all biology students are interested in p-value only. In this case you can rewrite the output for results as follows:"
   ]
  },
  {
   "cell_type": "code",
   "execution_count": 25,
   "metadata": {},
   "outputs": [
    {
     "name": "stdout",
     "output_type": "stream",
     "text": [
      "stats -1.3416407864998738\n",
      "p-value 0.22825809896897356\n"
     ]
    }
   ],
   "source": [
    "stats, p_val=t_test(a,b)\n",
    "print(\"stats\", stats)\n",
    "print(\"p-value\", p_val)"
   ]
  },
  {
   "cell_type": "markdown",
   "metadata": {},
   "source": [
    "Further, if you are not interested with stats, you might even ignore its meaningful name and replace it with underscore."
   ]
  },
  {
   "cell_type": "code",
   "execution_count": 26,
   "metadata": {},
   "outputs": [
    {
     "name": "stdout",
     "output_type": "stream",
     "text": [
      "p-value 0.22825809896897356\n"
     ]
    }
   ],
   "source": [
    "_,p_val=t_test(a,b)\n",
    "print(\"p-value\", p_val)"
   ]
  },
  {
   "cell_type": "markdown",
   "metadata": {},
   "source": [
    "Note, that \"_\" is still a variable with value. I honestly do not know whether this style complies to the pythonic style, but I see it in others people scripts.\n",
    "<h3>\n",
    "Related question asked by real student once: <br>\n",
    "Q: Why p-val=0.05 does give an error, but p_val=0.05 doesn't? <br>\n",
    "A: Well... I think you can answer it yourself now if you've studied 5 chapters before this one.\n",
    "<h3/>"
   ]
  },
  {
   "cell_type": "markdown",
   "metadata": {},
   "source": [
    "<h3>5. Use of semicolon.</h3>\n",
    "Semicolon (a.k.a. \";\") is an end of line symbol in other computer languages, for instance in javascript. It also works in python, although it is never used. \n",
    "\n",
    "You probably know, that in order to reduce number of lines, you can define some variables all together in one line like this:"
   ]
  },
  {
   "cell_type": "code",
   "execution_count": 27,
   "metadata": {},
   "outputs": [
    {
     "name": "stdout",
     "output_type": "stream",
     "text": [
      "a: 0\n",
      "b: word\n",
      "c: [1, 2, 4, 5]\n"
     ]
    }
   ],
   "source": [
    "a,b,c=0,\"word\",[1,2,4,5]\n",
    "print(\"a:\", a)\n",
    "print(\"b:\", b)\n",
    "print(\"c:\", c)"
   ]
  },
  {
   "cell_type": "markdown",
   "metadata": {},
   "source": [
    "This is usual.\n",
    "But you can do the same in other way:"
   ]
  },
  {
   "cell_type": "code",
   "execution_count": 28,
   "metadata": {},
   "outputs": [
    {
     "name": "stdout",
     "output_type": "stream",
     "text": [
      "a: 0\n",
      "b: word\n",
      "c: [1, 2, 4, 5]\n"
     ]
    }
   ],
   "source": [
    "a=0; b=\"word\"; c=[1,2,4,5]\n",
    "print(\"a:\", a)\n",
    "print(\"b:\", b)\n",
    "print(\"c:\", c)"
   ]
  },
  {
   "cell_type": "markdown",
   "metadata": {},
   "source": [
    "This is unusual. Nobody writes in python like this. But if you want it, you can do it.\n",
    "The one other case of using semicolon is to prevent junk messages while calling graphics, especially in jupyter and spyder.\n",
    "Here is the example:"
   ]
  },
  {
   "cell_type": "code",
   "execution_count": 29,
   "metadata": {},
   "outputs": [
    {
     "data": {
      "text/plain": [
       "{'whiskers': [<matplotlib.lines.Line2D at 0x7fd03fb42820>,\n",
       "  <matplotlib.lines.Line2D at 0x7fd03fb42b80>,\n",
       "  <matplotlib.lines.Line2D at 0x7fd03fad6040>,\n",
       "  <matplotlib.lines.Line2D at 0x7fd03fad63a0>,\n",
       "  <matplotlib.lines.Line2D at 0x7fd03fae3820>,\n",
       "  <matplotlib.lines.Line2D at 0x7fd03fae3b80>],\n",
       " 'caps': [<matplotlib.lines.Line2D at 0x7fd03fb42ee0>,\n",
       "  <matplotlib.lines.Line2D at 0x7fd03facc280>,\n",
       "  <matplotlib.lines.Line2D at 0x7fd03fad6700>,\n",
       "  <matplotlib.lines.Line2D at 0x7fd03fad6a60>,\n",
       "  <matplotlib.lines.Line2D at 0x7fd03fae3ee0>,\n",
       "  <matplotlib.lines.Line2D at 0x7fd03faec280>],\n",
       " 'boxes': [<matplotlib.lines.Line2D at 0x7fd03fb424c0>,\n",
       "  <matplotlib.lines.Line2D at 0x7fd03faccca0>,\n",
       "  <matplotlib.lines.Line2D at 0x7fd03fae34c0>],\n",
       " 'medians': [<matplotlib.lines.Line2D at 0x7fd03facc5e0>,\n",
       "  <matplotlib.lines.Line2D at 0x7fd03fad6dc0>,\n",
       "  <matplotlib.lines.Line2D at 0x7fd03faec5e0>],\n",
       " 'fliers': [<matplotlib.lines.Line2D at 0x7fd03facc8e0>,\n",
       "  <matplotlib.lines.Line2D at 0x7fd03fae3100>,\n",
       "  <matplotlib.lines.Line2D at 0x7fd03faec8e0>],\n",
       " 'means': []}"
      ]
     },
     "execution_count": 29,
     "metadata": {},
     "output_type": "execute_result"
    },
    {
     "data": {
      "image/png": "[encoded data removed]",
      "text/plain": [
       "<Figure size 432x288 with 1 Axes>"
      ]
     },
     "metadata": {
      "needs_background": "light"
     },
     "output_type": "display_data"
    }
   ],
   "source": [
    "#lets import matplotlib, befine lists of values and do a boxplot\n",
    "import matplotlib.pyplot as plt\n",
    "a=[1,3,2,4]\n",
    "b=[3,4,6,7]\n",
    "c=[5,1,1,2]\n",
    "plt.boxplot([a,b,c])"
   ]
  },
  {
   "cell_type": "markdown",
   "metadata": {},
   "source": [
    "If you are in jupyter (May, 2020), you will get a plenty of junk lines above the boxplot figure.\n",
    "To dump it, you have to re-write the last line with semicolon at the end. "
   ]
  },
  {
   "cell_type": "code",
   "execution_count": 30,
   "metadata": {},
   "outputs": [
    {
     "data": {
      "image/png": "[encoded data removed]",
      "text/plain": [
       "<Figure size 432x288 with 1 Axes>"
      ]
     },
     "metadata": {
      "needs_background": "light"
     },
     "output_type": "display_data"
    }
   ],
   "source": [
    "plt.boxplot([a,b,c]);"
   ]
  },
  {
   "cell_type": "markdown",
   "metadata": {},
   "source": [
    "Now it is clean and good-looking.<br>\n",
    "The next strange thing is related to the boxplot, namely\n",
    "\n",
    "<h3>6. Use of the boxplot for list of lists and np.array </h3>\n",
    "You might wonder it there a big difference between numpy array and list of lists? Well, sure, these are quite different variables, but technically, does it matter whether you plot list of lists or np.array? Yes, it does.\n",
    "\n",
    "Let's plot the very same data, but declare them as numpy array."
   ]
  },
  {
   "cell_type": "code",
   "execution_count": 31,
   "metadata": {},
   "outputs": [
    {
     "data": {
      "image/png": "[encoded data removed]",
      "text/plain": [
       "<Figure size 432x288 with 1 Axes>"
      ]
     },
     "metadata": {
      "needs_background": "light"
     },
     "output_type": "display_data"
    }
   ],
   "source": [
    "import numpy as np\n",
    "data=np.array([a,b,c])\n",
    "plt.boxplot(data);"
   ]
  },
  {
   "cell_type": "markdown",
   "metadata": {},
   "source": [
    "You probably figured it out. What happens here, is that boxplot swaps rows and columns, and boxes are given for very first values in lists a, b and c, then for the second, the third and the fourth.\n",
    "So, if you really want to do a boxplot for np.array of a,b,c series, you have to transpose it. "
   ]
  },
  {
   "cell_type": "code",
   "execution_count": 32,
   "metadata": {},
   "outputs": [
    {
     "data": {
      "image/png": "[encoded data removed]",
      "text/plain": [
       "<Figure size 432x288 with 1 Axes>"
      ]
     },
     "metadata": {
      "needs_background": "light"
     },
     "output_type": "display_data"
    }
   ],
   "source": [
    "plt.boxplot(data.T);"
   ]
  },
  {
   "cell_type": "markdown",
   "metadata": {},
   "source": [
    "I find it weird.\n",
    "\n",
    "<h3>7. Loop with no function.</h3>\n",
    "Sometimes you want to check the syntaxis of the script, not caring much to do some real use of it. Can you use a dummy line? Yes. You can say \"pass\", or you can write something in quotes. It will work and do nothing."
   ]
  },
  {
   "cell_type": "code",
   "execution_count": 33,
   "metadata": {},
   "outputs": [
    {
     "name": "stdout",
     "output_type": "stream",
     "text": [
      "done\n"
     ]
    }
   ],
   "source": [
    "for i in range(5):\n",
    "    pass\n",
    "    'keep working'\n",
    "    \"boy, this is going fast\"\n",
    "print(\"done\")"
   ]
  },
  {
   "cell_type": "markdown",
   "metadata": {},
   "source": [
    "I probably stop here, although there might be something more to add to this list."
   ]
  },
  {
   "cell_type": "code",
   "execution_count": null,
   "metadata": {},
   "outputs": [],
   "source": []
  }
 ],
 "metadata": {
  "kernelspec": {
   "display_name": "Python 3",
   "language": "python",
   "name": "python3"
  },
  "language_info": {
   "codemirror_mode": {
    "name": "ipython",
    "version": 3
   },
   "file_extension": ".py",
   "mimetype": "text/x-python",
   "name": "python",
   "nbconvert_exporter": "python",
   "pygments_lexer": "ipython3",
   "version": "3.8.2"
  }
 },
 "nbformat": 4,
 "nbformat_minor": 4
}
