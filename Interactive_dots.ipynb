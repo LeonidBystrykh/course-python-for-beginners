{
 "cells": [
  {
   "cell_type": "markdown",
   "metadata": {},
   "source": [
    "# Big letters\n",
    "regular\n",
    "*italic*\n"
   ]
  },
  {
   "cell_type": "markdown",
   "metadata": {},
   "source": [
    "Testing some ideas for interactive plots. Exploring jupyter widgets from\n",
    "https://ipywidgets.readthedocs.io/en/stable/examples/Using%20Interact.html\n",
    "This example is posted on\n",
    "https://stackoverflow.com/questions/6697259/interactive-matplotlib-plot-with-two-sliders/60852221#60852221"
   ]
  },
  {
   "cell_type": "code",
   "execution_count": 1,
   "metadata": {},
   "outputs": [
    {
     "data": {
      "application/vnd.jupyter.widget-view+json": {
       "model_id": "3de716cdc7df41b39b1550ebca60406c",
       "version_major": 2,
       "version_minor": 0
      },
      "text/plain": [
       "interactive(children=(IntSlider(value=50, description='dots', min=1), Dropdown(description='colr', options=('r…"
      ]
     },
     "metadata": {},
     "output_type": "display_data"
    }
   ],
   "source": [
    "from __future__ import print_function\n",
    "from ipywidgets import interact, interactive, fixed, interact_manual\n",
    "import ipywidgets as widgets\n",
    "import matplotlib.pyplot as plt, random\n",
    "\n",
    "def series(dots, colr):\n",
    "    a,b=[],[]\n",
    "    for i in range(dots):\n",
    "        a.append(random.randint(1,100))\n",
    "        b.append(random.randint(1,100))\n",
    "    plt.scatter(a,b, c=colr)\n",
    "    return()\n",
    "interact(series, dots=(1,100,1), colr=[\"red\",\"orange\",\"brown\"]); #semicolon dumps text reports from the function call\n",
    "\n",
    "\n"
   ]
  },
  {
   "cell_type": "code",
   "execution_count": null,
   "metadata": {},
   "outputs": [],
   "source": []
  }
 ],
 "metadata": {
  "kernelspec": {
   "display_name": "Python 3",
   "language": "python",
   "name": "python3"
  },
  "language_info": {
   "codemirror_mode": {
    "name": "ipython",
    "version": 3
   },
   "file_extension": ".py",
   "mimetype": "text/x-python",
   "name": "python",
   "nbconvert_exporter": "python",
   "pygments_lexer": "ipython3",
   "version": "3.7.4"
  }
 },
 "nbformat": 4,
 "nbformat_minor": 2
}
