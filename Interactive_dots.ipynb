{
  "nbformat": 4,
  "nbformat_minor": 0,
  "metadata": {
    "kernelspec": {
      "display_name": "Python 3",
      "language": "python",
      "name": "python3"
    },
    "language_info": {
      "codemirror_mode": {
        "name": "ipython",
        "version": 3
      },
      "file_extension": ".py",
      "mimetype": "text/x-python",
      "name": "python",
      "nbconvert_exporter": "python",
      "pygments_lexer": "ipython3",
      "version": "3.7.4"
    },
    "colab": {
      "name": "Interactive_dots.ipynb",
      "provenance": []
    },
    "widgets": {
      "application/vnd.jupyter.widget-state+json": {
        "297cdfcdaa6b4d8ca92258664f381700": {
          "model_module": "@jupyter-widgets/controls",
          "model_name": "VBoxModel",
          "state": {
            "_view_name": "VBoxView",
            "_dom_classes": [
              "widget-interact"
            ],
            "_model_name": "VBoxModel",
            "_view_module": "@jupyter-widgets/controls",
            "_model_module_version": "1.5.0",
            "_view_count": null,
            "_view_module_version": "1.5.0",
            "box_style": "",
            "layout": "IPY_MODEL_0cb685f2f4de49fcbd9be9626e20780a",
            "_model_module": "@jupyter-widgets/controls",
            "children": [
              "IPY_MODEL_c28dd4d5b329464da1f36f4576f09932",
              "IPY_MODEL_7443d295c89f467aa4c4f4e3b31c98cd",
              "IPY_MODEL_f325acd9de2e4ae7a9396b92dadc0e5e"
            ]
          }
        },
        "0cb685f2f4de49fcbd9be9626e20780a": {
          "model_module": "@jupyter-widgets/base",
          "model_name": "LayoutModel",
          "state": {
            "_view_name": "LayoutView",
            "grid_template_rows": null,
            "right": null,
            "justify_content": null,
            "_view_module": "@jupyter-widgets/base",
            "overflow": null,
            "_model_module_version": "1.2.0",
            "_view_count": null,
            "flex_flow": null,
            "width": null,
            "min_width": null,
            "border": null,
            "align_items": null,
            "bottom": null,
            "_model_module": "@jupyter-widgets/base",
            "top": null,
            "grid_column": null,
            "overflow_y": null,
            "overflow_x": null,
            "grid_auto_flow": null,
            "grid_area": null,
            "grid_template_columns": null,
            "flex": null,
            "_model_name": "LayoutModel",
            "justify_items": null,
            "grid_row": null,
            "max_height": null,
            "align_content": null,
            "visibility": null,
            "align_self": null,
            "height": null,
            "min_height": null,
            "padding": null,
            "grid_auto_rows": null,
            "grid_gap": null,
            "max_width": null,
            "order": null,
            "_view_module_version": "1.2.0",
            "grid_template_areas": null,
            "object_position": null,
            "object_fit": null,
            "grid_auto_columns": null,
            "margin": null,
            "display": null,
            "left": null
          }
        },
        "c28dd4d5b329464da1f36f4576f09932": {
          "model_module": "@jupyter-widgets/controls",
          "model_name": "IntSliderModel",
          "state": {
            "_view_name": "IntSliderView",
            "style": "IPY_MODEL_b649019d3bb24f09b13153eb1f018832",
            "_dom_classes": [],
            "description": "dots",
            "step": 1,
            "_model_name": "IntSliderModel",
            "orientation": "horizontal",
            "max": 100,
            "_view_module": "@jupyter-widgets/controls",
            "_model_module_version": "1.5.0",
            "value": 68,
            "_view_count": null,
            "disabled": false,
            "_view_module_version": "1.5.0",
            "min": 1,
            "continuous_update": true,
            "readout_format": "d",
            "description_tooltip": null,
            "readout": true,
            "_model_module": "@jupyter-widgets/controls",
            "layout": "IPY_MODEL_0ba313bb6f40482c95a5d3dcf6f5fc9e"
          }
        },
        "7443d295c89f467aa4c4f4e3b31c98cd": {
          "model_module": "@jupyter-widgets/controls",
          "model_name": "DropdownModel",
          "state": {
            "_options_labels": [
              "red",
              "orange",
              "brown"
            ],
            "_view_name": "DropdownView",
            "style": "IPY_MODEL_882a7abd5dfe4273acfc5be7dd125dfd",
            "_dom_classes": [],
            "description": "colr",
            "_model_name": "DropdownModel",
            "index": 1,
            "_view_module": "@jupyter-widgets/controls",
            "_model_module_version": "1.5.0",
            "_view_count": null,
            "disabled": false,
            "_view_module_version": "1.5.0",
            "description_tooltip": null,
            "_model_module": "@jupyter-widgets/controls",
            "layout": "IPY_MODEL_a9d153705732493fb6b1b11ce2b978cc"
          }
        },
        "f325acd9de2e4ae7a9396b92dadc0e5e": {
          "model_module": "@jupyter-widgets/output",
          "model_name": "OutputModel",
          "state": {
            "_view_name": "OutputView",
            "msg_id": "",
            "_dom_classes": [],
            "_model_name": "OutputModel",
            "outputs": [
              {
                "output_type": "display_data",
                "metadata": {
                  "tags": [],
                  "needs_background": "light"
                },
                "image/png": "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\n",
                "text/plain": "<Figure size 432x288 with 1 Axes>"
              },
              {
                "output_type": "display_data",
                "metadata": {
                  "tags": []
                },
                "text/plain": "()"
              }
            ],
            "_view_module": "@jupyter-widgets/output",
            "_model_module_version": "1.0.0",
            "_view_count": null,
            "_view_module_version": "1.0.0",
            "layout": "IPY_MODEL_319369b4a3b7488b8362051f88164cb4",
            "_model_module": "@jupyter-widgets/output"
          }
        },
        "b649019d3bb24f09b13153eb1f018832": {
          "model_module": "@jupyter-widgets/controls",
          "model_name": "SliderStyleModel",
          "state": {
            "_view_name": "StyleView",
            "handle_color": null,
            "_model_name": "SliderStyleModel",
            "description_width": "",
            "_view_module": "@jupyter-widgets/base",
            "_model_module_version": "1.5.0",
            "_view_count": null,
            "_view_module_version": "1.2.0",
            "_model_module": "@jupyter-widgets/controls"
          }
        },
        "0ba313bb6f40482c95a5d3dcf6f5fc9e": {
          "model_module": "@jupyter-widgets/base",
          "model_name": "LayoutModel",
          "state": {
            "_view_name": "LayoutView",
            "grid_template_rows": null,
            "right": null,
            "justify_content": null,
            "_view_module": "@jupyter-widgets/base",
            "overflow": null,
            "_model_module_version": "1.2.0",
            "_view_count": null,
            "flex_flow": null,
            "width": null,
            "min_width": null,
            "border": null,
            "align_items": null,
            "bottom": null,
            "_model_module": "@jupyter-widgets/base",
            "top": null,
            "grid_column": null,
            "overflow_y": null,
            "overflow_x": null,
            "grid_auto_flow": null,
            "grid_area": null,
            "grid_template_columns": null,
            "flex": null,
            "_model_name": "LayoutModel",
            "justify_items": null,
            "grid_row": null,
            "max_height": null,
            "align_content": null,
            "visibility": null,
            "align_self": null,
            "height": null,
            "min_height": null,
            "padding": null,
            "grid_auto_rows": null,
            "grid_gap": null,
            "max_width": null,
            "order": null,
            "_view_module_version": "1.2.0",
            "grid_template_areas": null,
            "object_position": null,
            "object_fit": null,
            "grid_auto_columns": null,
            "margin": null,
            "display": null,
            "left": null
          }
        },
        "882a7abd5dfe4273acfc5be7dd125dfd": {
          "model_module": "@jupyter-widgets/controls",
          "model_name": "DescriptionStyleModel",
          "state": {
            "_view_name": "StyleView",
            "_model_name": "DescriptionStyleModel",
            "description_width": "",
            "_view_module": "@jupyter-widgets/base",
            "_model_module_version": "1.5.0",
            "_view_count": null,
            "_view_module_version": "1.2.0",
            "_model_module": "@jupyter-widgets/controls"
          }
        },
        "a9d153705732493fb6b1b11ce2b978cc": {
          "model_module": "@jupyter-widgets/base",
          "model_name": "LayoutModel",
          "state": {
            "_view_name": "LayoutView",
            "grid_template_rows": null,
            "right": null,
            "justify_content": null,
            "_view_module": "@jupyter-widgets/base",
            "overflow": null,
            "_model_module_version": "1.2.0",
            "_view_count": null,
            "flex_flow": null,
            "width": null,
            "min_width": null,
            "border": null,
            "align_items": null,
            "bottom": null,
            "_model_module": "@jupyter-widgets/base",
            "top": null,
            "grid_column": null,
            "overflow_y": null,
            "overflow_x": null,
            "grid_auto_flow": null,
            "grid_area": null,
            "grid_template_columns": null,
            "flex": null,
            "_model_name": "LayoutModel",
            "justify_items": null,
            "grid_row": null,
            "max_height": null,
            "align_content": null,
            "visibility": null,
            "align_self": null,
            "height": null,
            "min_height": null,
            "padding": null,
            "grid_auto_rows": null,
            "grid_gap": null,
            "max_width": null,
            "order": null,
            "_view_module_version": "1.2.0",
            "grid_template_areas": null,
            "object_position": null,
            "object_fit": null,
            "grid_auto_columns": null,
            "margin": null,
            "display": null,
            "left": null
          }
        },
        "319369b4a3b7488b8362051f88164cb4": {
          "model_module": "@jupyter-widgets/base",
          "model_name": "LayoutModel",
          "state": {
            "_view_name": "LayoutView",
            "grid_template_rows": null,
            "right": null,
            "justify_content": null,
            "_view_module": "@jupyter-widgets/base",
            "overflow": null,
            "_model_module_version": "1.2.0",
            "_view_count": null,
            "flex_flow": null,
            "width": null,
            "min_width": null,
            "border": null,
            "align_items": null,
            "bottom": null,
            "_model_module": "@jupyter-widgets/base",
            "top": null,
            "grid_column": null,
            "overflow_y": null,
            "overflow_x": null,
            "grid_auto_flow": null,
            "grid_area": null,
            "grid_template_columns": null,
            "flex": null,
            "_model_name": "LayoutModel",
            "justify_items": null,
            "grid_row": null,
            "max_height": null,
            "align_content": null,
            "visibility": null,
            "align_self": null,
            "height": null,
            "min_height": null,
            "padding": null,
            "grid_auto_rows": null,
            "grid_gap": null,
            "max_width": null,
            "order": null,
            "_view_module_version": "1.2.0",
            "grid_template_areas": null,
            "object_position": null,
            "object_fit": null,
            "grid_auto_columns": null,
            "margin": null,
            "display": null,
            "left": null
          }
        }
      }
    }
  },
  "cells": [
    {
      "cell_type": "markdown",
      "metadata": {
        "id": "IxLbhMOd2oj6"
      },
      "source": [
        "# Check interactive options with ipywidgets"
      ]
    },
    {
      "cell_type": "markdown",
      "metadata": {
        "id": "cx8KJTxH2oj6"
      },
      "source": [
        "Testing some ideas for interactive plots. Exploring jupyter widgets from\n",
        "https://ipywidgets.readthedocs.io/en/stable/examples/Using%20Interact.html\n",
        "This example is posted on\n",
        "https://stackoverflow.com/questions/6697259/interactive-matplotlib-plot-with-two-sliders/60852221#60852221"
      ]
    },
    {
      "cell_type": "code",
      "metadata": {
        "colab": {
          "base_uri": "https://localhost:8080/",
          "height": 346,
          "referenced_widgets": [
            "297cdfcdaa6b4d8ca92258664f381700",
            "0cb685f2f4de49fcbd9be9626e20780a",
            "c28dd4d5b329464da1f36f4576f09932",
            "7443d295c89f467aa4c4f4e3b31c98cd",
            "f325acd9de2e4ae7a9396b92dadc0e5e",
            "b649019d3bb24f09b13153eb1f018832",
            "0ba313bb6f40482c95a5d3dcf6f5fc9e",
            "882a7abd5dfe4273acfc5be7dd125dfd",
            "a9d153705732493fb6b1b11ce2b978cc",
            "319369b4a3b7488b8362051f88164cb4"
          ]
        },
        "id": "-UJ9KenL2oj7",
        "outputId": "4eaa6260-1c41-4da2-b6ef-fb3b562cb44c"
      },
      "source": [
        "from __future__ import print_function\n",
        "from ipywidgets import interact, interactive, fixed, interact_manual\n",
        "import ipywidgets as widgets\n",
        "import matplotlib.pyplot as plt, random\n",
        "\n",
        "def series(dots, colr):\n",
        "    a,b=[],[]\n",
        "    for i in range(dots):\n",
        "        a.append(random.randint(1,100))\n",
        "        b.append(random.randint(1,100))\n",
        "    plt.scatter(a,b, c=colr)\n",
        "    return()\n",
        "interact(series, dots=(1,100,1), colr=[\"red\",\"orange\",\"brown\"]); #semicolon dumps text reports from the function call\n",
        "\n",
        "\n"
      ],
      "execution_count": 1,
      "outputs": [
        {
          "output_type": "display_data",
          "data": {
            "application/vnd.jupyter.widget-view+json": {
              "model_id": "297cdfcdaa6b4d8ca92258664f381700",
              "version_minor": 0,
              "version_major": 2
            },
            "text/plain": [
              "interactive(children=(IntSlider(value=50, description='dots', min=1), Dropdown(description='colr', options=('r…"
            ]
          },
          "metadata": {
            "tags": []
          }
        }
      ]
    },
    {
      "cell_type": "markdown",
      "metadata": {
        "id": "FlgjPt9D2oj-"
      },
      "source": [
        "If all settings go well, you should see a scatter plot above with numbers and colors as you choose. It also work on my drive in COlab environment."
      ]
    },
    {
      "cell_type": "code",
      "metadata": {
        "id": "TVKPdrwW2oj-"
      },
      "source": [
        ""
      ],
      "execution_count": null,
      "outputs": []
    }
  ]
}