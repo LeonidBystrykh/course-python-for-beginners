{
 "cells": [
  {
   "cell_type": "markdown",
   "metadata": {},
   "source": [
    "Small data can by typed directly within script. However, we usually keep data as tables in separate files, and those are the most common sources for the analysis and visualisation in python. \n",
    "There are many ways of reading files. Here I will show you only a small selection of my vavorites.\n",
    "There are: \n",
    "\n",
    "<font size=3>native file.read(), file.readlines(), numpy.genfromtxt(), and pandas.read()</font>\n",
    "\n",
    "But before that we create some file to be sure we have something to open. I usually try new scripts with something small and easy to check, and it is advisable to use something small before you try something big and difficult.\n",
    "\n",
    "Let's make a list of animals living in some facilities like the following."
   ]
  },
  {
   "cell_type": "code",
   "execution_count": 2,
   "metadata": {},
   "outputs": [
    {
     "data": {
      "text/plain": [
       "list"
      ]
     },
     "execution_count": 2,
     "metadata": {},
     "output_type": "execute_result"
    }
   ],
   "source": [
    "col_names=[\"ID\",\"house\", \"farm\", \"zoo\", \"park\"]\n",
    "mice=[1,2,3,4]\n",
    "cats=[2,1,0,0]\n",
    "pinguins=[0,0,2,3]\n",
    "tigers=[0,0,4,0]\n",
    "rownames=[\"mice\",\"cats\",\"pinguins\",\"tigers\"]\n",
    "data=[mice,cats,pinguins, tigers]\n",
    "type(data)"
   ]
  },
  {
   "cell_type": "markdown",
   "metadata": {},
   "source": [
    "We defined some living spaces for animals and their populations. It is not serious at all, and numbers do not matter much at this moment (although I tried to make those values appropriate for given locations). Let's save it to the file. Currently there are two major ways of doing it. One is by using native python functions, open() and writelines(). Another one is using pandas.to_csv() function. Lets use the first option (and the last one will come at the end of this script)."
   ]
  },
  {
   "cell_type": "code",
   "execution_count": 3,
   "metadata": {},
   "outputs": [],
   "source": [
    "#create new file for writing, \"w\" stants for \"write\"\n",
    "f_out=open(\"animals.csv\", \"w\") \n",
    "f_out.writelines(str(col_names)[1:-1]+\"\\n\") #write col_names and add end of line symbol\n",
    "#write the rest in a loop\n",
    "for i in range(len(data)):    \n",
    "    f_out.writelines(rownames[i]+\",\"+ str(data[i])[1:-1]+\"\\n\")\n",
    "#close file\n",
    "f_out.close()"
   ]
  },
  {
   "cell_type": "markdown",
   "metadata": {},
   "source": [
    "Now we have a file in the same directory as this script. In this case you do not have to mention directory when try to open the file. If your file of interest is in another place, you have to add directory to the name of the file. <br>\n",
    "Let's open this file as is with function read()."
   ]
  },
  {
   "cell_type": "code",
   "execution_count": 4,
   "metadata": {},
   "outputs": [
    {
     "name": "stdout",
     "output_type": "stream",
     "text": [
      "'ID', 'house', 'farm', 'zoo', 'park'\n",
      "mice,1, 2, 3, 4\n",
      "cats,2, 1, 0, 0\n",
      "pinguins,0, 0, 2, 3\n",
      "tigers,0, 0, 4, 0\n",
      "\n"
     ]
    }
   ],
   "source": [
    "f_in=open(\"animals.csv\",\"r\") # stands for read, it can be also \"rb\" as read binary, you can also add encoding\n",
    "data=f_in.read()\n",
    "f_in.close() #it is still required to close the file manually if you use nadive read() or readline() functions.\n",
    "print(data)"
   ]
  },
  {
   "cell_type": "markdown",
   "metadata": {},
   "source": [
    "The function read() does not split file on lines or anything. It simply reads the file as it is from the first symbol to the last one. It is useful to check type and length of the variable. Let's do it with data:"
   ]
  },
  {
   "cell_type": "code",
   "execution_count": 7,
   "metadata": {},
   "outputs": [
    {
     "name": "stdout",
     "output_type": "stream",
     "text": [
      "<class 'str'> 107 length\n"
     ]
    }
   ],
   "source": [
    "print(type(data), len(data), \"length\")"
   ]
  },
  {
   "cell_type": "markdown",
   "metadata": {},
   "source": [
    "It means the data file is a one big string with a length of 107 characters, but no lines no columns."
   ]
  },
  {
   "cell_type": "markdown",
   "metadata": {},
   "source": [
    "Sure you can split this string by end of line symbol (\"/n\"), then split it further by commas and so on to recover entire structure of the table. It might feel tedious and lengthy, but python allows to do it in small steps the way you want it. Read() function is useful, when other functions encounter difficulties to open or to read the file properly. It is not practical although if you can use other functions.\n",
    "It can be done a bit shorter by using readlines() instead."
   ]
  },
  {
   "cell_type": "code",
   "execution_count": 9,
   "metadata": {},
   "outputs": [
    {
     "name": "stdout",
     "output_type": "stream",
     "text": [
      "data as is  [\"'ID', 'house', 'farm', 'zoo', 'park'\\n\", 'mice,1, 2, 3, 4\\n', 'cats,2, 1, 0, 0\\n', 'pinguins,0, 0, 2, 3\\n', 'tigers,0, 0, 4, 0\\n']\n",
      "per line\n",
      "'ID', 'house', 'farm', 'zoo', 'park'\n",
      "\n",
      "mice,1, 2, 3, 4\n",
      "\n",
      "cats,2, 1, 0, 0\n",
      "\n",
      "pinguins,0, 0, 2, 3\n",
      "\n",
      "tigers,0, 0, 4, 0\n",
      "\n"
     ]
    }
   ],
   "source": [
    "f_in=open(\"animals.csv\",\"r\") # stands for read, it can be also \"rb\" as read binary, you can also add encoding\n",
    "data=f_in.readlines()\n",
    "f_in.close() #it is still required to close the file manually if you use nadive read() or readline() functions.\n",
    "#print data as they are\n",
    "print(\"data as is \", data)\n",
    "#print data per line\n",
    "print(\"per line\")\n",
    "for line in data:\n",
    "    print(line)"
   ]
  },
  {
   "cell_type": "markdown",
   "metadata": {},
   "source": [
    "As you can see, a file is properly read by lines, then column names are located in the first line, but we still have to remove end of line symbol (\"\\n\") using rstrip(), and do a bit mor work to collect row names and values in separate categories. Let's try again:"
   ]
  },
  {
   "cell_type": "code",
   "execution_count": 11,
   "metadata": {},
   "outputs": [
    {
     "name": "stdout",
     "output_type": "stream",
     "text": [
      "Places: 'ID', 'house', 'farm', 'zoo', 'park'\n",
      "\n",
      "data: [[1.0, 2.0, 3.0, 4.0], [2.0, 1.0, 0.0, 0.0], [0.0, 0.0, 2.0, 3.0], [0.0, 0.0, 4.0, 0.0]]\n",
      "animals: ['mice', 'cats', 'pinguins', 'tigers']\n"
     ]
    }
   ],
   "source": [
    "titles=data[0]\n",
    "rownames, data_table=[],[]\n",
    "#skip the first line using slicing [1:]\n",
    "for line in data[1:]:\n",
    "    values=[]\n",
    "    items=line.rstrip().split(',')\n",
    "    rownames.append(items[0])\n",
    "    for v in items[1:]:\n",
    "        values.append(float(v))\n",
    "    data_table.append(values)\n",
    "#check titles, data, names\n",
    "print(\"Places:\", titles)\n",
    "print(\"data:\", data_table)\n",
    "print(\"animals:\", rownames)\n",
    "\n",
    "    "
   ]
  },
  {
   "cell_type": "markdown",
   "metadata": {},
   "source": [
    "So we have all data back as they were. Sure, you might say, it is still very primitive and lengthy way. Can we do in shorter?\n",
    "\n",
    "Yes. Let's check the genfromtext() option."
   ]
  },
  {
   "cell_type": "code",
   "execution_count": 14,
   "metadata": {},
   "outputs": [
    {
     "name": "stdout",
     "output_type": "stream",
     "text": [
      "[[\"'ID'\" \" 'house'\" \" 'farm'\" \" 'zoo'\" \" 'park'\"]\n",
      " ['mice' '1' ' 2' ' 3' ' 4']\n",
      " ['cats' '2' ' 1' ' 0' ' 0']\n",
      " ['pinguins' '0' ' 0' ' 2' ' 3']\n",
      " ['tigers' '0' ' 0' ' 4' ' 0']]\n"
     ]
    },
    {
     "data": {
      "text/plain": [
       "numpy.ndarray"
      ]
     },
     "execution_count": 14,
     "metadata": {},
     "output_type": "execute_result"
    }
   ],
   "source": [
    "import numpy as np\n",
    "mytable=np.genfromtxt(\"animals.csv\", dtype=None, encoding=\"utf-8\", delimiter=\",\", replace_space=\"\")\n",
    "print(mytable)\n",
    "type(mytable)"
   ]
  },
  {
   "cell_type": "markdown",
   "metadata": {},
   "source": [
    "Note the new type of the variable: the entire table is a variable of numpy array type. It is not the same as list of lists.\n",
    "In case of the mixed values in the file table we have to declare all variables as strings or None, not float or int. Othervise part of the data will be lost. (You can replace \"None\" with \"float\" and see what will happen). It means, we have to declare values as floats after we have read the table. But let's collect column and row names first:"
   ]
  },
  {
   "cell_type": "code",
   "execution_count": 33,
   "metadata": {},
   "outputs": [
    {
     "name": "stdout",
     "output_type": "stream",
     "text": [
      "titles [\"'ID'\" \" 'house'\" \" 'farm'\" \" 'zoo'\" \" 'park'\"]\n"
     ]
    }
   ],
   "source": [
    "titles=mytable[0]\n",
    "print(\"titles\", titles)"
   ]
  },
  {
   "cell_type": "markdown",
   "metadata": {},
   "source": [
    "With this data type you can transpose entire table. This way you can extract row names."
   ]
  },
  {
   "cell_type": "code",
   "execution_count": 16,
   "metadata": {},
   "outputs": [
    {
     "name": "stdout",
     "output_type": "stream",
     "text": [
      "names [\"'ID'\" 'mice' 'cats' 'pinguins' 'tigers']\n"
     ]
    }
   ],
   "source": [
    "names=(mytable.T)[0]\n",
    "print(\"names\", names)"
   ]
  },
  {
   "cell_type": "markdown",
   "metadata": {},
   "source": [
    "I ignore for the moment the first element, \"ID\". It was required to keep all rows the same length during file import. But you can always remove it from the list by slicing or expricitly deleting it. Note, that sometimes your have to convert np.array to list and back depending on the function you try to use."
   ]
  },
  {
   "cell_type": "code",
   "execution_count": 19,
   "metadata": {},
   "outputs": [
    {
     "name": "stdout",
     "output_type": "stream",
     "text": [
      "['mice' 'cats' 'pinguins' 'tigers']\n"
     ]
    }
   ],
   "source": [
    "names=names[1:]\n",
    "print(names)"
   ]
  },
  {
   "cell_type": "markdown",
   "metadata": {},
   "source": [
    "Finally, you should be able to extract table of values of skipping the first row and the first element in each row, and converting strings to floats"
   ]
  },
  {
   "cell_type": "code",
   "execution_count": 51,
   "metadata": {},
   "outputs": [
    {
     "name": "stdout",
     "output_type": "stream",
     "text": [
      "[[1.0, 2.0, 3.0, 4.0], [2.0, 1.0, 0.0, 0.0], [0.0, 0.0, 2.0, 3.0], [0.0, 0.0, 4.0, 0.0]]\n"
     ]
    }
   ],
   "source": [
    "#make str-to-float converting function\n",
    "def tofloat(mylist):\n",
    "    new=[float(x) for x in mylist]\n",
    "    return(new)\n",
    "mydata_table=[tofloat(x[1:]) for x in mytable[1:]]\n",
    "print(mydata_table)"
   ]
  },
  {
   "cell_type": "markdown",
   "metadata": {},
   "source": [
    "As you possibly see, we got all three elements of the table as they were.\n",
    "\n",
    "But can it be done even simpler? Yes, for this purpose we can use pandas."
   ]
  },
  {
   "cell_type": "code",
   "execution_count": 100,
   "metadata": {},
   "outputs": [
    {
     "name": "stdout",
     "output_type": "stream",
     "text": [
      "           'house'   'farm'   'zoo'   'park'\n",
      "'ID'                                        \n",
      "mice             1        2       3        4\n",
      "cats             2        1       0        0\n",
      "pinguins         0        0       2        3\n",
      "tigers           0        0       4        0\n"
     ]
    },
    {
     "data": {
      "text/plain": [
       "pandas.core.frame.DataFrame"
      ]
     },
     "execution_count": 100,
     "metadata": {},
     "output_type": "execute_result"
    }
   ],
   "source": [
    "import pandas as pd\n",
    "mytable=pd.read_csv(\"animals.csv\", header=0, index_col=0)\n",
    "print(mytable)\n",
    "type(mytable)"
   ]
  },
  {
   "cell_type": "markdown",
   "metadata": {},
   "source": [
    "Here we see a new data type, namely the entire table is a type DataFrame. Those who have an experience with R programming will find many analogies with R function \"read.csv\". In a way pandas imitate R style to some degree. DataFrame type also exist in R. \n",
    "\n",
    "Note, that we declare headers=0, meaning column titles in the 1st row, similarly index_col=0 means that row names are in the 1st column. ID is a name of that names. Technically, we can load the file without ID, this will make the import in pandas a bit more simple. However, it cannot be used for numpy file opening.\n",
    "\n",
    "All we learned about lists and numpy arraus does not work for DataFrame type. Slicing is generally not the way to get data from this type. How we do it then?\n",
    "Here is an example"
   ]
  },
  {
   "cell_type": "code",
   "execution_count": 101,
   "metadata": {},
   "outputs": [
    {
     "name": "stdout",
     "output_type": "stream",
     "text": [
      "row names are called \"index\"\n",
      "Index(['mice', 'cats', 'pinguins', 'tigers'], dtype='object', name=''ID'')\n",
      "column names are columns\n",
      "Index([' 'house'', ' 'farm'', ' 'zoo'', ' 'park''], dtype='object')\n",
      "data table is in to_numpy\n",
      "[[1 2 3 4]\n",
      " [2 1 0 0]\n",
      " [0 0 2 3]\n",
      " [0 0 4 0]]\n"
     ]
    }
   ],
   "source": [
    "print('row names are called \"index\"')\n",
    "print(mytable.index)\n",
    "print(\"column names are 'columns'\")\n",
    "print(mytable.columns)\n",
    "print(\"data table is in to_numpy\")\n",
    "print(mytable.to_numpy())"
   ]
  },
  {
   "cell_type": "markdown",
   "metadata": {},
   "source": [
    "It is remarkable name for extraction of data. Actually the entire DataFrame variable can be converted to numpy array, which will allow more simple access to any data per row and per column. When needed, numpy array can be further declared as list. And this triade DataFrame-np.array-list can be interconverted at any time you need it."
   ]
  },
  {
   "cell_type": "code",
   "execution_count": 102,
   "metadata": {},
   "outputs": [
    {
     "name": "stdout",
     "output_type": "stream",
     "text": [
      "[2 1 0]\n"
     ]
    }
   ],
   "source": [
    "myarray=np.array(mytable)\n",
    "print(myarray[1][0:3]) #print values from the second row, first to third"
   ]
  },
  {
   "cell_type": "markdown",
   "metadata": {},
   "source": [
    "Pandas open_csv is useful  when we have a standard table in file without weird stuff. It is also good start for the script is you use **seaborn** graphic package and *statsmodels* package. Those two packages are made in the same R-ish style as pandas and adapted for the DataFrame data input.\n",
    "Here is an example of seaborn graphics. Use autentic mytable for this"
   ]
  },
  {
   "cell_type": "code",
   "execution_count": 103,
   "metadata": {},
   "outputs": [
    {
     "data": {
      "image/png": "[encoded data removed]",
      "text/plain": [
       "<Figure size 432x288 with 2 Axes>"
      ]
     },
     "metadata": {
      "needs_background": "light"
     },
     "output_type": "display_data"
    }
   ],
   "source": [
    "import seaborn as sns\n",
    "sns.heatmap(mytable);"
   ]
  },
  {
   "cell_type": "markdown",
   "metadata": {},
   "source": [
    "Note, we have not declared row or column names. Sns graphics finds it automatically. <br> Pandas is very useful for saving data to the file. If data are a kind of a simple table, then it takes very few lines and parameters to make the file you need.\n",
    "Here is an example"
   ]
  },
  {
   "cell_type": "code",
   "execution_count": 91,
   "metadata": {},
   "outputs": [],
   "source": [
    "#save data in file in one line, use tab as column separator\n",
    "pd.DataFrame.to_csv(mytable,\"ani.csv\", sep=\"\\t\")"
   ]
  },
  {
   "cell_type": "markdown",
   "metadata": {},
   "source": [
    "you can also redefine column names and row names before saving. Or you can skip lines for header and index and save the original data with original names (try it yourself)."
   ]
  },
  {
   "cell_type": "code",
   "execution_count": 96,
   "metadata": {},
   "outputs": [],
   "source": [
    "mytable.index=['aa','bb','cc','dd']\n",
    "pd.DataFrame.to_csv(mytable,\n",
    "                    \"ani.csv\", \n",
    "                    sep=\"\\t\", \n",
    "                    header=[\"AA\",\"BB\",\"CC\",\"DD\"])"
   ]
  },
  {
   "cell_type": "markdown",
   "metadata": {},
   "source": [
    "Here I redefined row names (index) and column names (header). I could also redefine the table. This way of saving data is great when you have all data in three pieces: table of values, row names and column names. You stitch them in a few lines and save.\n",
    "The entire description of the open_csv and to_csv functions is huge and might feel scary. Note, that you do not have to go into all details unless you really need it. Rely on default settings as long as it works.\n",
    "Details of these functions are in pandas tutorial (https://pandas.pydata.org/pandas-docs/stable/reference/api/pandas.read_csv.html#pandas.read_csv, https://pandas.pydata.org/pandas-docs/stable/reference/api/pandas.DataFrame.to_csv.html )"
   ]
  },
  {
   "cell_type": "code",
   "execution_count": null,
   "metadata": {},
   "outputs": [],
   "source": []
  }
 ],
 "metadata": {
  "kernelspec": {
   "display_name": "Python 3",
   "language": "python",
   "name": "python3"
  },
  "language_info": {
   "codemirror_mode": {
    "name": "ipython",
    "version": 3
   },
   "file_extension": ".py",
   "mimetype": "text/x-python",
   "name": "python",
   "nbconvert_exporter": "python",
   "pygments_lexer": "ipython3",
   "version": "3.8.2"
  }
 },
 "nbformat": 4,
 "nbformat_minor": 4
}
