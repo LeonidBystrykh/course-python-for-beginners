{
 "cells": [
  {
   "cell_type": "markdown",
   "metadata": {},
   "source": [
    "# This is a part of the course python for beginners\n",
    "I am biologist by education, and I give course of python to biology students.\n",
    "My style migh be too simple for other students, which is neither intentional nor offensive."
   ]
  },
  {
   "cell_type": "markdown",
   "metadata": {},
   "source": [
    "Python is a great language because it speaks kind of english, it is intuitive, and it is rich in possibilities.\n",
    "I will skip the line print(\"Hallo, World\") and go strait to variables. Note, that print function shows results on the screen. Therefore no paper wasted.\n",
    "\n",
    "Lets mention some variables, which are familiar to everyone who attended the school"
   ]
  },
  {
   "cell_type": "code",
   "execution_count": 4,
   "metadata": {},
   "outputs": [
    {
     "name": "stdout",
     "output_type": "stream",
     "text": [
      "a and b:\t1\t2\t a+b:\t3\n",
      "c and d:\t2.75\t3.15\t c+d:\t5.9\n"
     ]
    }
   ],
   "source": [
    "#here are integers\n",
    "a=1\n",
    "b=2\n",
    "print(\"a and b:\", a, b, \" a+b:\", a+b, sep=\"\\t\")\n",
    "#these are float variables\n",
    "c=2.75\n",
    "d=3.15\n",
    "print(\"c and d:\", c, d, \" c+d:\", c+d, sep=\"\\t\")"
   ]
  },
  {
   "cell_type": "markdown",
   "metadata": {},
   "source": [
    "there is another variable called *string*. It is a kind of a text fragment, or text character. You can add one string to another as it works for variables above\n"
   ]
  },
  {
   "cell_type": "code",
   "execution_count": 5,
   "metadata": {},
   "outputs": [
    {
     "name": "stdout",
     "output_type": "stream",
     "text": [
      "All those perfect people\n",
      " and beautiful dogs\n",
      "All those perfect people and beautiful dogs\n"
     ]
    }
   ],
   "source": [
    "txt1=\"All those perfect people\"\n",
    "txt2=\" and beautiful dogs\"\n",
    "print(txt1)\n",
    "print(txt2)\n",
    "print(txt1+txt2)"
   ]
  },
  {
   "cell_type": "markdown",
   "metadata": {},
   "source": [
    "with such variables you can do all arythmetic functions (and many other functions) as it was ever told in the school in the math classes.\n",
    "Note, that *print* is a function, where in brackets you specify what you want to print. It can be one item or many. You simply separate them by comma.\n",
    "\n",
    "The next and very frequently used variable is list. It can be list of integers, floats, or strings. Note, there can be lists of lists too. function *type()* allows you to check what type of the variable this is"
   ]
  },
  {
   "cell_type": "code",
   "execution_count": 7,
   "metadata": {},
   "outputs": [
    {
     "name": "stdout",
     "output_type": "stream",
     "text": [
      "<class 'list'>\n",
      "['1', '2', 'three']\n"
     ]
    }
   ],
   "source": [
    "x=[1,2,3,5,6] #list of integers\n",
    "y=[3.1,2.3,4.5,5.7,6.9] #list of floats\n",
    "z=[\"1\",\"2\",\"three\"] #list of strings\n",
    "\n",
    "print(type(x))\n",
    "print(z)"
   ]
  },
  {
   "cell_type": "markdown",
   "metadata": {},
   "source": [
    "You can take a sum of lists using the usual math operation \"+\". "
   ]
  },
  {
   "cell_type": "code",
   "execution_count": 11,
   "metadata": {},
   "outputs": [
    {
     "name": "stdout",
     "output_type": "stream",
     "text": [
      "[1, 2, 3, 5, 6, 3.1, 2.3, 4.5, 5.7, 6.9]\n"
     ]
    },
    {
     "data": {
      "text/plain": [
       "[3.1, 2.3, 4.5, 5.7, 6.9, '1', '2', 'three']"
      ]
     },
     "execution_count": 11,
     "metadata": {},
     "output_type": "execute_result"
    }
   ],
   "source": [
    "print(x+y)\n",
    "y+z #another way of showing value for the variable or function"
   ]
  },
  {
   "cell_type": "markdown",
   "metadata": {},
   "source": [
    "However other operations, like \"-\", \"/\", \"\\*\" do not apply for lists. You have to do other tricks, usually organised in loops. However, if we declare list as set, we can do subtraction."
   ]
  },
  {
   "cell_type": "code",
   "execution_count": 22,
   "metadata": {},
   "outputs": [
    {
     "data": {
      "text/plain": [
       "{3, 5, 6}"
      ]
     },
     "execution_count": 22,
     "metadata": {},
     "output_type": "execute_result"
    }
   ],
   "source": [
    "z=[1,2]\n",
    "set(x)-set(z)"
   ]
  },
  {
   "cell_type": "markdown",
   "metadata": {},
   "source": [
    "Set variable is a kind of a list, but it has only unique elements.\n",
    "Multiplication and division works as expected with simple variables. You can also multiply strings and lists, but you cannot divide, and you cannot multiply by float value or by string\n"
   ]
  },
  {
   "cell_type": "code",
   "execution_count": 16,
   "metadata": {},
   "outputs": [
    {
     "name": "stdout",
     "output_type": "stream",
     "text": [
      "[1, 2, 3, 5, 6, 1, 2, 3, 5, 6, 1, 2, 3, 5, 6, 1, 2, 3, 5, 6, 1, 2, 3, 5, 6]\n",
      "ABCABCABCABCABC\n"
     ]
    }
   ],
   "source": [
    "print(x*5)\n",
    "print(\"ABC\"*5)\n"
   ]
  },
  {
   "cell_type": "markdown",
   "metadata": {},
   "source": [
    "Note, that power function is defined as \"\\*\\*\". Square root is defined as power 1/2, or 0.5."
   ]
  },
  {
   "cell_type": "code",
   "execution_count": 18,
   "metadata": {},
   "outputs": [
    {
     "name": "stdout",
     "output_type": "stream",
     "text": [
      "16\n",
      "2.0\n"
     ]
    }
   ],
   "source": [
    "print(2**4)\n",
    "print(8**1/4)"
   ]
  },
  {
   "cell_type": "markdown",
   "metadata": {},
   "source": [
    "*log* function is not directly available. But it is available in \"math\" package. There are several log functions there. Simply check options in the https://docs.python.org/3/library/math.html and take what you like. To use function from the package, declare it on the top of your script, then mention it before calling function with \".\" as separator between them"
   ]
  },
  {
   "cell_type": "code",
   "execution_count": 21,
   "metadata": {},
   "outputs": [
    {
     "name": "stdout",
     "output_type": "stream",
     "text": [
      "2.0\n",
      "2.0\n"
     ]
    }
   ],
   "source": [
    "import math\n",
    "print(math.log2(4)) #here base is 2\n",
    "print(math.log(4,2)) #here you define base yourself"
   ]
  },
  {
   "cell_type": "markdown",
   "metadata": {},
   "source": [
    "This is not everything, but this is sufficient to get the idea. Keep in mind that this time folks invented so many things, functions, tricks, that you probably have to learne them by the order of appearance in your scripts. In this respect i usually ckeck **stackoverflow** site for questions how to do this and that. "
   ]
  }
 ],
 "metadata": {
  "kernelspec": {
   "display_name": "Python 3",
   "language": "python",
   "name": "python3"
  },
  "language_info": {
   "codemirror_mode": {
    "name": "ipython",
    "version": 3
   },
   "file_extension": ".py",
   "mimetype": "text/x-python",
   "name": "python",
   "nbconvert_exporter": "python",
   "pygments_lexer": "ipython3",
   "version": "3.7.4"
  }
 },
 "nbformat": 4,
 "nbformat_minor": 4
}
