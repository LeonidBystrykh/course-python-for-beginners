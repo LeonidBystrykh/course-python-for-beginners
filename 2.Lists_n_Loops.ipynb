{
 "cells": [
  {
   "cell_type": "markdown",
   "metadata": {},
   "source": [
    "Lists and list of lists are very frequently used elements of the script.\n",
    "Although there is no logical connection between lists and loops, they often come together during writing the scripts.\n",
    "<span style=\"color: red;\">\"For\"</span> and <span style=\"color: red;\">\"while\"</span> loops are the most frequently used. Note that python is a language which uses tabulation as informative element, namely defining loop structures. Therefore the beginning and the end of the loop is defined by tabulation. \n",
    "Lets check loop by counter, which is usually defined by single letter, like \"i\", \"j\", \"k\", \"m\", \"n\". Note that letter \"l\" is not easily recognised and therefore not recommended for use as a counter.\n",
    "\n",
    "Here is an example of a \"for\" loop with explicit value of a loop rounds"
   ]
  },
  {
   "cell_type": "code",
   "execution_count": 1,
   "metadata": {},
   "outputs": [
    {
     "name": "stdout",
     "output_type": "stream",
     "text": [
      "0\n",
      "1\n",
      "2\n",
      "3\n",
      "4\n"
     ]
    }
   ],
   "source": [
    "for i in range(5):\n",
    "    print(i)"
   ]
  },
  {
   "cell_type": "markdown",
   "metadata": {},
   "source": [
    "Note, that python counts from 0, and it stops before value \"5\", but the number of loop rounds is 5. When loop counts from 0, then 0 can be skipped, but you can count from any number, and indicate that pair of parameters as following"
   ]
  },
  {
   "cell_type": "code",
   "execution_count": 6,
   "metadata": {},
   "outputs": [
    {
     "name": "stdout",
     "output_type": "stream",
     "text": [
      "3\n",
      "4\n",
      "5\n",
      "6\n",
      "7\n"
     ]
    }
   ],
   "source": [
    "for i in range(3,8):\n",
    "    print(i)"
   ]
  },
  {
   "cell_type": "markdown",
   "metadata": {},
   "source": [
    "Note, that the counter cannot be negative or float. \n",
    "\n",
    "\"For\" loop can be used to run through the list of data. It is sometimes not easy to see, how many times you repeat the loop to come to the end. In that cases you can use function len(), which means \"length\".\n",
    "This way you can call elements from one or several lists:"
   ]
  },
  {
   "cell_type": "code",
   "execution_count": 3,
   "metadata": {},
   "outputs": [
    {
     "name": "stdout",
     "output_type": "stream",
     "text": [
      "0\tone\t0\n",
      "1\ttwo\t10\n",
      "2\tthree\t20\n",
      "3\tfour\tforty\n"
     ]
    }
   ],
   "source": [
    "names=[\"one\",\"two\",\"three\",\"four\"]\n",
    "ints=[0,10,20,\"forty\"]\n",
    "for i in range(len(names)):\n",
    "    print(i, names[i], ints[i], sep=\"\\t\")"
   ]
  },
  {
   "cell_type": "markdown",
   "metadata": {},
   "source": [
    "Note, I can combine floats and string variables in the same list. I can also define common separator when using print() function.\n",
    "\n",
    "Another loop  version is calling elements from the list instead of range() function. Here is an example:"
   ]
  },
  {
   "cell_type": "code",
   "execution_count": 4,
   "metadata": {},
   "outputs": [
    {
     "name": "stdout",
     "output_type": "stream",
     "text": [
      "1 10 0.1\n",
      "2 20 0.2\n",
      "3 30 0.3\n",
      "5 50 0.5\n"
     ]
    }
   ],
   "source": [
    "integers=[1,2,3,5]\n",
    "for number in integers:\n",
    "    print(number, number*10, number/10)"
   ]
  },
  {
   "cell_type": "markdown",
   "metadata": {},
   "source": [
    "Note, we skipped here number 4. \n",
    "\n",
    "The second popular loop after \"for\" in python is \"while\" loop, which will loop as long as \"while\" condition holds. Therefore, make sure you have not forgotten anything and the loop has a chance to exit."
   ]
  },
  {
   "cell_type": "code",
   "execution_count": 9,
   "metadata": {},
   "outputs": [
    {
     "name": "stdout",
     "output_type": "stream",
     "text": [
      "0\n",
      "1\n",
      "2\n",
      "3\n",
      "4\n",
      "5\n",
      "6\n",
      "7\n",
      "8\n",
      "9\n"
     ]
    }
   ],
   "source": [
    "i=0\n",
    "while i<10:\n",
    "    print(i)\n",
    "    i+=1"
   ]
  },
  {
   "cell_type": "markdown",
   "metadata": {},
   "source": [
    "Note, that if you forget to add increment line (i+=1 means i=i+1), this loop will run forever.\n"
   ]
  },
  {
   "cell_type": "markdown",
   "metadata": {},
   "source": [
    "As I said, lists are naturally connected to loops. You can build a list by using function append(). \n",
    "x.append(5) means 5 will be added to the list named x."
   ]
  },
  {
   "cell_type": "code",
   "execution_count": 10,
   "metadata": {},
   "outputs": [
    {
     "name": "stdout",
     "output_type": "stream",
     "text": [
      "[0]\n",
      "[0, 1]\n",
      "[0, 1, 2]\n",
      "[0, 1, 2, 3]\n",
      "[0, 1, 2, 3, 4]\n"
     ]
    }
   ],
   "source": [
    "x=[]\n",
    "for i in range(5):\n",
    "    x.append(i)\n",
    "    print(x)"
   ]
  },
  {
   "cell_type": "markdown",
   "metadata": {},
   "source": [
    "Note, that print stays in the loop, therefore it prints every time you go through the loop. Here is a case of loop in loop, and print is outside of the tab structure, a.k.a loop. Therefore it will be printed only once. You can shift position of the print() function by adding/removing tabulation and see what happens."
   ]
  },
  {
   "cell_type": "code",
   "execution_count": 13,
   "metadata": {},
   "outputs": [
    {
     "name": "stdout",
     "output_type": "stream",
     "text": [
      "[5, 6, 7, 8, 9, 6, 7, 8, 9, 10, 7, 8, 9, 10, 11, 8, 9, 10, 11, 12, 9, 10, 11, 12, 13]\n"
     ]
    }
   ],
   "source": [
    "y=[]\n",
    "for i in range(5):\n",
    "    for j in range(5,10):\n",
    "        y.append(i+j)\n",
    "print(y)"
   ]
  },
  {
   "cell_type": "markdown",
   "metadata": {},
   "source": [
    "there is one more expression, which is a kind of a loop, and it is often used for selecting a subset of data. It looks like the following:"
   ]
  },
  {
   "cell_type": "code",
   "execution_count": 15,
   "metadata": {},
   "outputs": [
    {
     "name": "stdout",
     "output_type": "stream",
     "text": [
      "high values [10, 10, 11, 10, 11, 12, 10, 11, 12, 13]\n",
      "low values [5, 6, 7, 8, 9, 6, 7, 8, 9, 7, 8, 9, 8, 9, 9]\n"
     ]
    }
   ],
   "source": [
    "high=[x for x in y if x>=10]\n",
    "low=[x for x in y if x<10]\n",
    "print(\"high values\", high)\n",
    "print(\"low values\", low)"
   ]
  },
  {
   "cell_type": "markdown",
   "metadata": {},
   "source": [
    "With these loops we can do addition, subtraction and other operations with lists as we define.\n",
    "For instance we can define subtract each element of the list1 from each element of list2 (provided their lengthes are equal)"
   ]
  },
  {
   "cell_type": "code",
   "execution_count": 5,
   "metadata": {},
   "outputs": [],
   "source": [
    "list1=[1,2,3,4]\n",
    "list2=[2,3,4,5]\n",
    "def subtract(a,b):\n",
    "    #make sure a and b are the same length\n",
    "    if len(a)==len(b):\n",
    "        new=[]\n",
    "        for i in range(len(a)):\n",
    "            new.append(a[i]-b[i])\n",
    "    return(new)       "
   ]
  },
  {
   "cell_type": "markdown",
   "metadata": {},
   "source": [
    "Here you also see how you make your own functions. They always begin with **def** and end with **return**. You also define what is in the input and in the output of them. Below we will use this newly made function. Note that \"if\" function is also structured by tabulation and colon, just like loops.\n",
    "Now we are ready do use freshly made function and subtract one list from anoter:"
   ]
  },
  {
   "cell_type": "code",
   "execution_count": 18,
   "metadata": {},
   "outputs": [
    {
     "data": {
      "text/plain": [
       "[-1, -1, -1, -1]"
      ]
     },
     "execution_count": 18,
     "metadata": {},
     "output_type": "execute_result"
    }
   ],
   "source": [
    "subtract(list1,list2)"
   ]
  },
  {
   "cell_type": "markdown",
   "metadata": {},
   "source": [
    "Surely, we can define subtraction other way, more like elements in list1 which are not in the list2. To do so we write something like"
   ]
  },
  {
   "cell_type": "code",
   "execution_count": 19,
   "metadata": {},
   "outputs": [
    {
     "name": "stdout",
     "output_type": "stream",
     "text": [
      "unique in list1 [1]\n"
     ]
    }
   ],
   "source": [
    "unique1=[x for x in list1 if x not in list2]\n",
    "print(\"unique in list1\", unique1)"
   ]
  },
  {
   "cell_type": "markdown",
   "metadata": {},
   "source": [
    "Note, that numpy package contains many functions, which can be applied for entire lists without calling them one in a time. For instance *power* finction"
   ]
  },
  {
   "cell_type": "code",
   "execution_count": 21,
   "metadata": {},
   "outputs": [
    {
     "name": "stdout",
     "output_type": "stream",
     "text": [
      "list1 power of 2 [ 1  4  9 16]\n"
     ]
    }
   ],
   "source": [
    "import numpy as np\n",
    "print(\"list1 power of 2\", np.power(list1,2))"
   ]
  },
  {
   "cell_type": "markdown",
   "metadata": {},
   "source": [
    "Also numpy contains many other useful functions. You can easily ask for average, min and max values in your lists"
   ]
  },
  {
   "cell_type": "code",
   "execution_count": 23,
   "metadata": {},
   "outputs": [
    {
     "name": "stdout",
     "output_type": "stream",
     "text": [
      "max 4\n",
      "average 2.5\n",
      "min 1\n"
     ]
    }
   ],
   "source": [
    "print(\"max\", np.max(list1))\n",
    "print(\"average\", np.mean(list1))\n",
    "print(\"min\", np.min(list1))"
   ]
  },
  {
   "cell_type": "markdown",
   "metadata": {},
   "source": [
    "Inquire numpy for other options and use them when you need. Do not invent something trivial, spare your energy for real challenges."
   ]
  }
 ],
 "metadata": {
  "kernelspec": {
   "display_name": "Python 3",
   "language": "python",
   "name": "python3"
  },
  "language_info": {
   "codemirror_mode": {
    "name": "ipython",
    "version": 3
   },
   "file_extension": ".py",
   "mimetype": "text/x-python",
   "name": "python",
   "nbconvert_exporter": "python",
   "pygments_lexer": "ipython3",
   "version": "3.8.2"
  }
 },
 "nbformat": 4,
 "nbformat_minor": 4
}
