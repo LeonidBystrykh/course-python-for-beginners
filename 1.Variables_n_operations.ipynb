{
  "nbformat": 4,
  "nbformat_minor": 0,
  "metadata": {
    "kernelspec": {
      "display_name": "Python 3",
      "language": "python",
      "name": "python3"
    },
    "language_info": {
      "codemirror_mode": {
        "name": "ipython",
        "version": 3
      },
      "file_extension": ".py",
      "mimetype": "text/x-python",
      "name": "python",
      "nbconvert_exporter": "python",
      "pygments_lexer": "ipython3",
      "version": "3.8.2"
    },
    "colab": {
      "name": "1.Variables_n_operations.ipynb",
      "provenance": []
    }
  },
  "cells": [
    {
      "cell_type": "markdown",
      "metadata": {
        "id": "6aDPIyIeSY_b",
        "colab_type": "text"
      },
      "source": [
        "**Python** is the most popular programming language at this time. It is a general purpose programming tool, it is logical, it speaks kind of english, it is intuitive, and it is rich in options.\n",
        "I will skip the line print(\"Hallo, World\") and go strait to variables. Note, that print function shows results on the screen. Therefore no paper wasted.\n",
        "\n",
        "Note that python code traditional follows some ethical/stylistic rules, which to a great degree implies simplicity and clarity. The full list of the rules is pretty long (see for instance https://docs.python-guide.org/ or https://www.python.org/dev/peps/pep-0008/ or maybe something else). \n",
        "For constant values we usually use the first characters of the latin (english) alphabet (a, b, c), for variables, these are the last characters (like  x, y, z).  I doubt that every python user knows entire text. Nevertheless, stick to the essence of it. For simplicity, avoid expression you do not fully understand (even if others use it). For clarity, use meaningfull names for essential variables in your script to be sure you remember, what those variable contain.\n",
        "\n",
        "In python you do not have to declare the variable before use. You just use it. Lets try some variables, which are familiar to everyone who attended the school, like integers and floats."
      ]
    },
    {
      "cell_type": "code",
      "metadata": {
        "id": "hl-r4e1bSY_d",
        "colab_type": "code",
        "colab": {},
        "outputId": "6dd19b80-d8c5-4011-d894-a8a7aace6d2b"
      },
      "source": [
        "#here are integers\n",
        "a=1\n",
        "b=2\n",
        "print(\"a and b:\", a, b, \" a+b:\", a+b, sep=\"\\t\")\n",
        "\n",
        "#these are float variables\n",
        "c=2.75\n",
        "d=3.15\n",
        "print(\"c and d:\", c, d, \" c+d:\", c+d, sep=\"\\t\")"
      ],
      "execution_count": null,
      "outputs": [
        {
          "output_type": "stream",
          "text": [
            "a and b:\t1\t2\t a+b:\t3\n",
            "c and d:\t2.75\t3.15\t c+d:\t5.9\n"
          ],
          "name": "stdout"
        }
      ]
    },
    {
      "cell_type": "markdown",
      "metadata": {
        "id": "BE3xN6cASY_n",
        "colab_type": "text"
      },
      "source": [
        "Floats and integers are those constants and variablies to which all arythmetical rules apply (remember your school days?). With such variables you can do all arythmetic functions (and many other functions) as it was ever told in the school in the math classes.\n",
        "Note, that *print* is a function, where in brackets you specify what you want to print. It can be one item or many. You simply separate them by comma. You can also define a separator in printed lins as sep=\"...\" For more detalis, you can type help(your_function>)..."
      ]
    },
    {
      "cell_type": "code",
      "metadata": {
        "id": "r8E3x_xnSY_q",
        "colab_type": "code",
        "colab": {},
        "outputId": "610165a3-e6ff-4b11-f820-5eb44cd5d7ae"
      },
      "source": [
        "help(print)"
      ],
      "execution_count": null,
      "outputs": [
        {
          "output_type": "stream",
          "text": [
            "Help on built-in function print in module builtins:\n",
            "\n",
            "print(...)\n",
            "    print(value, ..., sep=' ', end='\\n', file=sys.stdout, flush=False)\n",
            "    \n",
            "    Prints the values to a stream, or to sys.stdout by default.\n",
            "    Optional keyword arguments:\n",
            "    file:  a file-like object (stream); defaults to the current sys.stdout.\n",
            "    sep:   string inserted between values, default a space.\n",
            "    end:   string appended after the last value, default a newline.\n",
            "    flush: whether to forcibly flush the stream.\n",
            "\n"
          ],
          "name": "stdout"
        }
      ]
    },
    {
      "cell_type": "markdown",
      "metadata": {
        "id": "j4S1Jw1hSY_v",
        "colab_type": "text"
      },
      "source": [
        "...or your go to python docs (something like https://docs.python.org/3.10/) and check what print() or other basic function can do."
      ]
    },
    {
      "cell_type": "markdown",
      "metadata": {
        "id": "FT9C5ohSSY_x",
        "colab_type": "text"
      },
      "source": [
        "Back to variables: there is another variable called *string*. It is a kind of a text fragment, or text character. You can add one string to another as it works for variables above."
      ]
    },
    {
      "cell_type": "code",
      "metadata": {
        "id": "E39Li0OOSY_y",
        "colab_type": "code",
        "colab": {},
        "outputId": "146942ba-300d-472a-beb4-eab2d48de70e"
      },
      "source": [
        "txt1=\"All those perfect people\"\n",
        "txt2=\" and beautiful dogs\"\n",
        "print(txt1)\n",
        "print(txt2)\n",
        "print(txt1+txt2)"
      ],
      "execution_count": null,
      "outputs": [
        {
          "output_type": "stream",
          "text": [
            "All those perfect people\n",
            " and beautiful dogs\n",
            "All those perfect people and beautiful dogs\n"
          ],
          "name": "stdout"
        }
      ]
    },
    {
      "cell_type": "markdown",
      "metadata": {
        "id": "haH-m2zhSY_3",
        "colab_type": "text"
      },
      "source": [
        "Adding one string to another means merging them in one. However, you cannot subtract one string from another.\n",
        "If we try it as follows:"
      ]
    },
    {
      "cell_type": "code",
      "metadata": {
        "id": "dRyxwttlSY_4",
        "colab_type": "code",
        "colab": {},
        "outputId": "9bf9a170-6e7b-49a2-f561-24be1bc86159"
      },
      "source": [
        "txt1-txt2"
      ],
      "execution_count": null,
      "outputs": [
        {
          "output_type": "error",
          "ename": "TypeError",
          "evalue": "unsupported operand type(s) for -: 'str' and 'str'",
          "traceback": [
            "\u001b[0;31m---------------------------------------------------------------------------\u001b[0m",
            "\u001b[0;31mTypeError\u001b[0m                                 Traceback (most recent call last)",
            "\u001b[0;32m<ipython-input-5-a803b1b64cc9>\u001b[0m in \u001b[0;36m<module>\u001b[0;34m\u001b[0m\n\u001b[0;32m----> 1\u001b[0;31m \u001b[0mtxt1\u001b[0m\u001b[0;34m-\u001b[0m\u001b[0mtxt2\u001b[0m\u001b[0;34m\u001b[0m\u001b[0;34m\u001b[0m\u001b[0m\n\u001b[0m",
            "\u001b[0;31mTypeError\u001b[0m: unsupported operand type(s) for -: 'str' and 'str'"
          ]
        }
      ]
    },
    {
      "cell_type": "markdown",
      "metadata": {
        "id": "nXdPIxTHSY_8",
        "colab_type": "text"
      },
      "source": [
        "We see, that we try an \"unsupported operation\" for a \"str\" variable. Obviously, we have to answer the question first, what do we mean by subtraction of one string by another? After we know it, we can define a function to implement the subtraction. We will come to it in another chapter (although I have to write it first).\n",
        "The next and very frequently used variable is list. It can be list of integers, floats, or strings. Note, there can be lists of lists too. function *type()* allows you to check what type of the variable this is"
      ]
    },
    {
      "cell_type": "code",
      "metadata": {
        "id": "eNACQRlrSY_-",
        "colab_type": "code",
        "colab": {},
        "outputId": "35e60977-5b60-43fe-8e83-5ba9bc56ecfd"
      },
      "source": [
        "x=[1,2,3,5,6] #list of integers\n",
        "y=[3.1,2.3,4.5,5.7,6.9] #list of floats\n",
        "z=[\"1\",\"2\",\"three\"] #list of strings\n",
        "\n",
        "#check the type of x\n",
        "print(type(x))\n",
        "\n",
        "#show content of z\n",
        "print(z)"
      ],
      "execution_count": null,
      "outputs": [
        {
          "output_type": "stream",
          "text": [
            "<class 'list'>\n",
            "['1', '2', 'three']\n"
          ],
          "name": "stdout"
        }
      ]
    },
    {
      "cell_type": "markdown",
      "metadata": {
        "id": "QAG1-B9ISZAD",
        "colab_type": "text"
      },
      "source": [
        "You can take a sum of lists using the usual math operation \"+\". "
      ]
    },
    {
      "cell_type": "code",
      "metadata": {
        "id": "9VFmKzEMSZAE",
        "colab_type": "code",
        "colab": {},
        "outputId": "638cdc8e-6b70-431f-a91f-79f9173b8852"
      },
      "source": [
        "print(x+y)\n",
        "y+z #another way of showing value for the variable or function"
      ],
      "execution_count": null,
      "outputs": [
        {
          "output_type": "stream",
          "text": [
            "[1, 2, 3, 5, 6, 3.1, 2.3, 4.5, 5.7, 6.9]\n"
          ],
          "name": "stdout"
        },
        {
          "output_type": "execute_result",
          "data": {
            "text/plain": [
              "[3.1, 2.3, 4.5, 5.7, 6.9, '1', '2', 'three']"
            ]
          },
          "metadata": {
            "tags": []
          },
          "execution_count": 7
        }
      ]
    },
    {
      "cell_type": "markdown",
      "metadata": {
        "id": "6FWh8171SZAI",
        "colab_type": "text"
      },
      "source": [
        "However other operations, like \"-\", \"/\", \"\\*\" do not apply for lists. You have to do other tricks, usually organised in loops. However, if we declare list as set, we can do subtraction."
      ]
    },
    {
      "cell_type": "code",
      "metadata": {
        "id": "fRNRylTrSZAJ",
        "colab_type": "code",
        "colab": {},
        "outputId": "aaeca28e-77b9-4ddf-d8b2-745c902f5596"
      },
      "source": [
        "z=[1,2]\n",
        "set(x)-set(z)"
      ],
      "execution_count": null,
      "outputs": [
        {
          "output_type": "execute_result",
          "data": {
            "text/plain": [
              "{3, 5, 6}"
            ]
          },
          "metadata": {
            "tags": []
          },
          "execution_count": 8
        }
      ]
    },
    {
      "cell_type": "markdown",
      "metadata": {
        "id": "iv7TWXMZSZAM",
        "colab_type": "text"
      },
      "source": [
        "Set variable is a kind of a list, but it has only unique elements.\n",
        "Lets define some list as list an as set and compare them."
      ]
    },
    {
      "cell_type": "code",
      "metadata": {
        "id": "S89_lLf6SZAN",
        "colab_type": "code",
        "colab": {},
        "outputId": "02ac6d07-276a-433a-9bd4-f95b34c00372"
      },
      "source": [
        "elements1=[1,2,3,'four']\n",
        "elements2=[1,2,\"three\",4]\n",
        "print(\"sum as list\", list(elements1+elements2), \" it is redundant\")\n",
        "print(\"sum as set\", set(elements1+elements2), \"only unique elements\")\n",
        "print(\"subtract as set\", set(elements1)-set(elements2), \"only present in elements1\")"
      ],
      "execution_count": null,
      "outputs": [
        {
          "output_type": "stream",
          "text": [
            "sum as list [1, 2, 3, 'four', 1, 2, 'three', 4]  it is redundant\n",
            "sum as set {1, 2, 3, 4, 'three', 'four'} only unique elements\n",
            "subtract as set {3, 'four'} only present in elements1\n"
          ],
          "name": "stdout"
        }
      ]
    },
    {
      "cell_type": "markdown",
      "metadata": {
        "id": "zexVKtQ7SZAR",
        "colab_type": "text"
      },
      "source": [
        "We see, that sum as list contains repetitive elements (two times 1 and 2). But sets have it all non-redundant.\n",
        "\n",
        "Note, that we can declare string as list, and then as set."
      ]
    },
    {
      "cell_type": "code",
      "metadata": {
        "id": "7sVdZz0oSZAS",
        "colab_type": "code",
        "colab": {},
        "outputId": "8870187d-0598-4c81-8c31-bf7d547e91ab"
      },
      "source": [
        "mystr=\"All those beautiful people\"\n",
        "print(\"As string:\", mystr)\n",
        "print(\"As list:\", list(mystr))\n",
        "print(\"As set:\", set(mystr))"
      ],
      "execution_count": null,
      "outputs": [
        {
          "output_type": "stream",
          "text": [
            "As string: All those beautiful people\n",
            "As list: ['A', 'l', 'l', ' ', 't', 'h', 'o', 's', 'e', ' ', 'b', 'e', 'a', 'u', 't', 'i', 'f', 'u', 'l', ' ', 'p', 'e', 'o', 'p', 'l', 'e']\n",
            "As set: {'l', 'i', 'a', 'p', 't', 'e', 'b', 's', 'h', 'u', ' ', 'o', 'A', 'f'}\n"
          ],
          "name": "stdout"
        }
      ]
    },
    {
      "cell_type": "markdown",
      "metadata": {
        "id": "zHp3ImrISZAW",
        "colab_type": "text"
      },
      "source": [
        "Therefore you can add and subtract two strings after converting them to list or set, but pay attention to what actually happens and what it means.\n",
        "\n",
        "Multiplication and division works as expected with simple variables. You can also multiply strings and lists, but you cannot divide, and you cannot multiply by float value or by string"
      ]
    },
    {
      "cell_type": "code",
      "metadata": {
        "id": "3K9OlzToSZAX",
        "colab_type": "code",
        "colab": {},
        "outputId": "6c60334e-a58f-47ba-a685-7b3be49542a1"
      },
      "source": [
        "print(x*5)\n",
        "print(\"ABC\"*5)\n"
      ],
      "execution_count": null,
      "outputs": [
        {
          "output_type": "stream",
          "text": [
            "[1, 2, 3, 5, 6, 1, 2, 3, 5, 6, 1, 2, 3, 5, 6, 1, 2, 3, 5, 6, 1, 2, 3, 5, 6]\n",
            "ABCABCABCABCABC\n"
          ],
          "name": "stdout"
        }
      ]
    },
    {
      "cell_type": "markdown",
      "metadata": {
        "id": "VsG8H-2zSZAa",
        "colab_type": "text"
      },
      "source": [
        "Note, that power function is defined as \"\\*\\*\". Square root is defined as power 1/2, or 0.5."
      ]
    },
    {
      "cell_type": "code",
      "metadata": {
        "id": "QcTgua-6SZAb",
        "colab_type": "code",
        "colab": {},
        "outputId": "0e7116ad-e7f2-4fd8-c264-4087ada0c1f4"
      },
      "source": [
        "print(2**4)\n",
        "print(4**0.5)\n",
        "print(16**1/4)"
      ],
      "execution_count": null,
      "outputs": [
        {
          "output_type": "stream",
          "text": [
            "16\n",
            "2.0\n",
            "4.0\n"
          ],
          "name": "stdout"
        }
      ]
    },
    {
      "cell_type": "markdown",
      "metadata": {
        "id": "Nrj_ylz4SZAg",
        "colab_type": "text"
      },
      "source": [
        "*log* function is not directly available. But it is available in \"math\" package. There are several log functions there. Simply check options in the https://docs.python.org/3/library/math.html and take what you like. To use function from the package, declare it on the top of your script, then mention it before calling function with \".\" as separator between them"
      ]
    },
    {
      "cell_type": "code",
      "metadata": {
        "id": "fHt4QPfqSZAh",
        "colab_type": "code",
        "colab": {},
        "outputId": "d5e529da-1037-43d3-e39e-bbe2b8f9f850"
      },
      "source": [
        "import math\n",
        "print(math.log2(4)) #here base is 2\n",
        "print(math.log(4,2)) #here you define base yourself"
      ],
      "execution_count": null,
      "outputs": [
        {
          "output_type": "stream",
          "text": [
            "2.0\n",
            "2.0\n"
          ],
          "name": "stdout"
        }
      ]
    },
    {
      "cell_type": "markdown",
      "metadata": {
        "id": "-59h7qVNSZAk",
        "colab_type": "text"
      },
      "source": [
        "This is not everything, but this is sufficient to get the idea and to begin your own writing. The funny thing is that you use what you know, but you cannot keep in memory things which you do not use. Therefore, try to learn and use your knowledge at the same time. Do not wait to the end of tutorial if you have already some questions and ideas. Begin whenever you want it. "
      ]
    },
    {
      "cell_type": "code",
      "metadata": {
        "id": "wawclAQySZAl",
        "colab_type": "code",
        "colab": {
          "base_uri": "https://localhost:8080/",
          "height": 34
        },
        "outputId": "4bf32c4c-2782-426f-cd74-80f14a96f752"
      },
      "source": [
        "#some simple functions in numpy\n",
        "import numpy as np\n",
        "x=[1,2,3,2,4,5,4]\n",
        "print(\"average of x\", np.mean(x))"
      ],
      "execution_count": 4,
      "outputs": [
        {
          "output_type": "stream",
          "text": [
            "average of x 3.0\n"
          ],
          "name": "stdout"
        }
      ]
    }
  ]
}