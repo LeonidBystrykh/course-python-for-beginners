{
 "cells": [
  {
   "cell_type": "markdown",
   "metadata": {},
   "source": [
    "**Python** is the most popular programming language at this time. It is a general purpose programming tool, it is logical, it speaks kind of english, it is intuitive, and it is rich in options.\n",
    "I will skip the line print(\"Hallo, World\") and go strait to variables. Note, that print function shows results on the screen. Therefore no paper wasted.\n",
    "\n",
    "Note that python code traditional follows some ethical/stylistic rules, which to a great degree implies simplicity and clarity. The full list of the rules is pretty long (see for instance https://docs.python-guide.org/ or https://www.python.org/dev/peps/pep-0008/ or maybe something else). \n",
    "For constant values we usually use the first characters of the latin (english) alphabet (a, b, c), for variables, these are the last characters (like  x, y, z).  I doubt that every python user knows entire text. Nevertheless, stick to the essence of it. For simplicity, avoid expression you do not fully understand (even if others use it). For clarity, use meaningfull names for essential variables in your script to be sure you remember, what those variable contain.\n",
    "\n",
    "In python you do not have to declare the variable before use. You just use it. Lets try some variables, which are familiar to everyone who attended the school, like integers and floats."
   ]
  },
  {
   "cell_type": "code",
   "execution_count": 2,
   "metadata": {},
   "outputs": [
    {
     "name": "stdout",
     "output_type": "stream",
     "text": [
      "a and b:\t1\t2\t a+b:\t3\n",
      "c and d:\t2.75\t3.15\t c+d:\t5.9\n"
     ]
    }
   ],
   "source": [
    "#here are integers\n",
    "a=1\n",
    "b=2\n",
    "print(\"a and b:\", a, b, \" a+b:\", a+b, sep=\"\\t\")\n",
    "\n",
    "#these are float variables\n",
    "c=2.75\n",
    "d=3.15\n",
    "print(\"c and d:\", c, d, \" c+d:\", c+d, sep=\"\\t\")"
   ]
  },
  {
   "cell_type": "markdown",
   "metadata": {},
   "source": [
    "Floats and integers are those constants and variablies to which all arythmetical rules apply (remember your school days?). With such variables you can do all arythmetic functions (and many other functions) as it was ever told in the school in the math classes.\n",
    "Note, that *print* is a function, where in brackets you specify what you want to print. It can be one item or many. You simply separate them by comma. You can also define a separator in printed lins as sep=\"...\" For more detalis, you can type help(your_function>)..."
   ]
  },
  {
   "cell_type": "code",
   "execution_count": 3,
   "metadata": {},
   "outputs": [
    {
     "name": "stdout",
     "output_type": "stream",
     "text": [
      "Help on built-in function print in module builtins:\n",
      "\n",
      "print(...)\n",
      "    print(value, ..., sep=' ', end='\\n', file=sys.stdout, flush=False)\n",
      "    \n",
      "    Prints the values to a stream, or to sys.stdout by default.\n",
      "    Optional keyword arguments:\n",
      "    file:  a file-like object (stream); defaults to the current sys.stdout.\n",
      "    sep:   string inserted between values, default a space.\n",
      "    end:   string appended after the last value, default a newline.\n",
      "    flush: whether to forcibly flush the stream.\n",
      "\n"
     ]
    }
   ],
   "source": [
    "help(print)"
   ]
  },
  {
   "cell_type": "markdown",
   "metadata": {},
   "source": [
    "...or your go to python docs (something like https://docs.python.org/3.10/) and check what print() or other basic function can do."
   ]
  },
  {
   "cell_type": "markdown",
   "metadata": {},
   "source": [
    "Back to variables: there is another variable called *string*. It is a kind of a text fragment, or text character. You can add one string to another as it works for variables above."
   ]
  },
  {
   "cell_type": "code",
   "execution_count": 4,
   "metadata": {},
   "outputs": [
    {
     "name": "stdout",
     "output_type": "stream",
     "text": [
      "All those perfect people\n",
      " and beautiful dogs\n",
      "All those perfect people and beautiful dogs\n"
     ]
    }
   ],
   "source": [
    "txt1=\"All those perfect people\"\n",
    "txt2=\" and beautiful dogs\"\n",
    "print(txt1)\n",
    "print(txt2)\n",
    "print(txt1+txt2)"
   ]
  },
  {
   "cell_type": "markdown",
   "metadata": {},
   "source": [
    "Adding one string to another means merging them in one. However, you cannot subtract one string from another.\n",
    "If we try it as follows:"
   ]
  },
  {
   "cell_type": "code",
   "execution_count": 5,
   "metadata": {},
   "outputs": [
    {
     "ename": "TypeError",
     "evalue": "unsupported operand type(s) for -: 'str' and 'str'",
     "output_type": "error",
     "traceback": [
      "\u001b[0;31m---------------------------------------------------------------------------\u001b[0m",
      "\u001b[0;31mTypeError\u001b[0m                                 Traceback (most recent call last)",
      "\u001b[0;32m<ipython-input-5-a803b1b64cc9>\u001b[0m in \u001b[0;36m<module>\u001b[0;34m\u001b[0m\n\u001b[0;32m----> 1\u001b[0;31m \u001b[0mtxt1\u001b[0m\u001b[0;34m-\u001b[0m\u001b[0mtxt2\u001b[0m\u001b[0;34m\u001b[0m\u001b[0;34m\u001b[0m\u001b[0m\n\u001b[0m",
      "\u001b[0;31mTypeError\u001b[0m: unsupported operand type(s) for -: 'str' and 'str'"
     ]
    }
   ],
   "source": [
    "txt1-txt2"
   ]
  },
  {
   "cell_type": "markdown",
   "metadata": {},
   "source": [
    "We see, that we try an \"unsupported operation\" for a \"str\" variable. Obviously, we have to answer the question first, what do we mean by subtraction of one string by another? After we know it, we can define a function to implement the subtraction. We will come to it in another chapter (although I have to write it first).\n",
    "The next and very frequently used variable is list. It can be list of integers, floats, or strings. Note, there can be lists of lists too. function *type()* allows you to check what type of the variable this is"
   ]
  },
  {
   "cell_type": "code",
   "execution_count": 6,
   "metadata": {},
   "outputs": [
    {
     "name": "stdout",
     "output_type": "stream",
     "text": [
      "<class 'list'>\n",
      "['1', '2', 'three']\n"
     ]
    }
   ],
   "source": [
    "x=[1,2,3,5,6] #list of integers\n",
    "y=[3.1,2.3,4.5,5.7,6.9] #list of floats\n",
    "z=[\"1\",\"2\",\"three\"] #list of strings\n",
    "\n",
    "#check the type of x\n",
    "print(type(x))\n",
    "\n",
    "#show content of z\n",
    "print(z)"
   ]
  },
  {
   "cell_type": "markdown",
   "metadata": {},
   "source": [
    "You can take a sum of lists using the usual math operation \"+\". "
   ]
  },
  {
   "cell_type": "code",
   "execution_count": 7,
   "metadata": {},
   "outputs": [
    {
     "name": "stdout",
     "output_type": "stream",
     "text": [
      "[1, 2, 3, 5, 6, 3.1, 2.3, 4.5, 5.7, 6.9]\n"
     ]
    },
    {
     "data": {
      "text/plain": [
       "[3.1, 2.3, 4.5, 5.7, 6.9, '1', '2', 'three']"
      ]
     },
     "execution_count": 7,
     "metadata": {},
     "output_type": "execute_result"
    }
   ],
   "source": [
    "print(x+y)\n",
    "y+z #another way of showing value for the variable or function"
   ]
  },
  {
   "cell_type": "markdown",
   "metadata": {},
   "source": [
    "However other operations, like \"-\", \"/\", \"\\*\" do not apply for lists. You have to do other tricks, usually organised in loops. However, if we declare list as set, we can do subtraction."
   ]
  },
  {
   "cell_type": "code",
   "execution_count": 8,
   "metadata": {},
   "outputs": [
    {
     "data": {
      "text/plain": [
       "{3, 5, 6}"
      ]
     },
     "execution_count": 8,
     "metadata": {},
     "output_type": "execute_result"
    }
   ],
   "source": [
    "z=[1,2]\n",
    "set(x)-set(z)"
   ]
  },
  {
   "cell_type": "markdown",
   "metadata": {},
   "source": [
    "Set variable is a kind of a list, but it has only unique elements.\n",
    "Lets define some list as list an as set and compare them."
   ]
  },
  {
   "cell_type": "code",
   "execution_count": 9,
   "metadata": {},
   "outputs": [
    {
     "name": "stdout",
     "output_type": "stream",
     "text": [
      "sum as list [1, 2, 3, 'four', 1, 2, 'three', 4]  it is redundant\n",
      "sum as set {1, 2, 3, 4, 'three', 'four'} only unique elements\n",
      "subtract as set {3, 'four'} only present in elements1\n"
     ]
    }
   ],
   "source": [
    "elements1=[1,2,3,'four']\n",
    "elements2=[1,2,\"three\",4]\n",
    "print(\"sum as list\", list(elements1+elements2), \" it is redundant\")\n",
    "print(\"sum as set\", set(elements1+elements2), \"only unique elements\")\n",
    "print(\"subtract as set\", set(elements1)-set(elements2), \"only present in elements1\")"
   ]
  },
  {
   "cell_type": "markdown",
   "metadata": {},
   "source": [
    "We see, that sum as list contains repetitive elements (two times 1 and 2). But sets have it all non-redundant.\n",
    "\n",
    "Note, that we can declare string as list, and then as set."
   ]
  },
  {
   "cell_type": "code",
   "execution_count": 10,
   "metadata": {},
   "outputs": [
    {
     "name": "stdout",
     "output_type": "stream",
     "text": [
      "As string: All those beautiful people\n",
      "As list: ['A', 'l', 'l', ' ', 't', 'h', 'o', 's', 'e', ' ', 'b', 'e', 'a', 'u', 't', 'i', 'f', 'u', 'l', ' ', 'p', 'e', 'o', 'p', 'l', 'e']\n",
      "As set: {'l', 'i', 'a', 'p', 't', 'e', 'b', 's', 'h', 'u', ' ', 'o', 'A', 'f'}\n"
     ]
    }
   ],
   "source": [
    "mystr=\"All those beautiful people\"\n",
    "print(\"As string:\", mystr)\n",
    "print(\"As list:\", list(mystr))\n",
    "print(\"As set:\", set(mystr))"
   ]
  },
  {
   "cell_type": "markdown",
   "metadata": {},
   "source": [
    "Therefore you can add and subtract two strings after converting them to list or set, but pay attention to what actually happens and what it means.\n",
    "\n",
    "Multiplication and division works as expected with simple variables. You can also multiply strings and lists, but you cannot divide, and you cannot multiply by float value or by string"
   ]
  },
  {
   "cell_type": "code",
   "execution_count": 11,
   "metadata": {},
   "outputs": [
    {
     "name": "stdout",
     "output_type": "stream",
     "text": [
      "[1, 2, 3, 5, 6, 1, 2, 3, 5, 6, 1, 2, 3, 5, 6, 1, 2, 3, 5, 6, 1, 2, 3, 5, 6]\n",
      "ABCABCABCABCABC\n"
     ]
    }
   ],
   "source": [
    "print(x*5)\n",
    "print(\"ABC\"*5)\n"
   ]
  },
  {
   "cell_type": "markdown",
   "metadata": {},
   "source": [
    "Note, that power function is defined as \"\\*\\*\". Square root is defined as power 1/2, or 0.5."
   ]
  },
  {
   "cell_type": "code",
   "execution_count": 12,
   "metadata": {},
   "outputs": [
    {
     "name": "stdout",
     "output_type": "stream",
     "text": [
      "16\n",
      "2.0\n",
      "4.0\n"
     ]
    }
   ],
   "source": [
    "print(2**4)\n",
    "print(4**0.5)\n",
    "print(16**1/4)"
   ]
  },
  {
   "cell_type": "markdown",
   "metadata": {},
   "source": [
    "*log* function is not directly available. But it is available in \"math\" package. There are several log functions there. Simply check options in the https://docs.python.org/3/library/math.html and take what you like. To use function from the package, declare it on the top of your script, then mention it before calling function with \".\" as separator between them"
   ]
  },
  {
   "cell_type": "code",
   "execution_count": 13,
   "metadata": {},
   "outputs": [
    {
     "name": "stdout",
     "output_type": "stream",
     "text": [
      "2.0\n",
      "2.0\n"
     ]
    }
   ],
   "source": [
    "import math\n",
    "print(math.log2(4)) #here base is 2\n",
    "print(math.log(4,2)) #here you define base yourself"
   ]
  },
  {
   "cell_type": "markdown",
   "metadata": {},
   "source": [
    "This is not everything, but this is sufficient to get the idea and to begin your own writing. The funny thing is that you use what you know, but you cannot keep in memory things which you do not use. Therefore, try to learn and use your knowledge at the same time. Do not wait to the end of tutorial if you have already some questions and ideas. Begin whenever you want it. "
   ]
  },
  {
   "cell_type": "code",
   "execution_count": null,
   "metadata": {},
   "outputs": [],
   "source": []
  }
 ],
 "metadata": {
  "kernelspec": {
   "display_name": "Python 3",
   "language": "python",
   "name": "python3"
  },
  "language_info": {
   "codemirror_mode": {
    "name": "ipython",
    "version": 3
   },
   "file_extension": ".py",
   "mimetype": "text/x-python",
   "name": "python",
   "nbconvert_exporter": "python",
   "pygments_lexer": "ipython3",
   "version": "3.8.2"
  }
 },
 "nbformat": 4,
 "nbformat_minor": 4
}
