{
 "cells": [
  {
   "cell_type": "markdown",
   "metadata": {},
   "source": [
    "<h3>Statistics is an endless chapter.</h3>\n",
    "\n",
    "There is no way to cover all topics related to statistics in any course. Here I can only scratch the surface and try some very simple example for absolute beginners. The aim is to expain in simple terms how you add statistical function to your data if you want it.\n",
    "\n",
    "Most of the time we talk about statistics when we talk about significance. More exactly we adress a question of significance in cases we are not sure whether measurements in group **A** are the same or different from the group *B*. This is one out of three typical and frequent cases we deal in biology. All three of them are the following:\n",
    "\n",
    "1. Statistics of two groups. T-test is famous example (and few more to come). \n",
    "2. Statisticss of rare events (Binomial, Poisson and alike. Not really planning in here).\n",
    "3. Statistics of lists (like Gene Onthology enrichments, significance of Venn intersections. I will keep it for later).\n",
    "\n",
    "If you want some statistical function you usually find it in Scipy package. It collects not only statistical tests, but also random generators of different distributions, some useful tests to check properties of data and many more. Do spend you time to scroll through the pages of scipy, especially scipy.stats. For every function you will see the required input parameters, the default conditions, which you can modify if needed, and what every function returns. Also small example how to use is included. You have to read the description, recommendations and warnings. If you think it is appropriate for your case, then try it.\n",
    "\n",
    "<h3>When we use the t-test?</h3>\n",
    "In case we have two groups of data, each with own average (which is close to median and modal), some variation between data declining both ways from the average, we can tink if t-test and other parametric tests."
   ]
  },
  {
   "cell_type": "code",
   "execution_count": 2,
   "metadata": {},
   "outputs": [],
   "source": [
    "import scipy.stats as ss #this is my way of importing it and my abbreviation"
   ]
  },
  {
   "cell_type": "code",
   "execution_count": null,
   "metadata": {},
   "outputs": [],
   "source": [
    "#skip this block is you used one above\n",
    "from scipy.stats import ttest_ind #this is more frequent case of import, but it only limits to one function\n",
    "#you can also do this\n",
    "from scipy import stats #you will import all functions from stats, but you have to refer to stats every time you call the function"
   ]
  },
  {
   "cell_type": "code",
   "execution_count": 3,
   "metadata": {},
   "outputs": [
    {
     "name": "stdout",
     "output_type": "stream",
     "text": [
      "p-value for a and b: 0.06558767691472245\n",
      "Difference is not significant\n"
     ]
    }
   ],
   "source": [
    "a=[1,2,3,2,1]\n",
    "b=[3,4,5,6,1]\n",
    "stat,p_val=ss.ttest_ind(a,b)\n",
    "print(\"p-value for a and b:\", p_val)\n",
    "if p_val<0.05:\n",
    "    print(\"a and b are significandly different\")\n",
    "else:\n",
    "    print(\"Difference is not significant\")"
   ]
  },
  {
   "cell_type": "markdown",
   "metadata": {},
   "source": [
    "You can change values in series for a and b and see how the p-value changes. If you want to use another test, you check scipy stats pages, choose what you want and what the name of the function is. All those functions are made uniformly: you have to use a minimum of the entry data (and/or change some from their default conditions), then collect the output data (marked as returned) and that's it.\n",
    "\n",
    "For instance, for paired t-test it will be like this:"
   ]
  },
  {
   "cell_type": "code",
   "execution_count": 4,
   "metadata": {},
   "outputs": [
    {
     "name": "stdout",
     "output_type": "stream",
     "text": [
      "p-value for a and b: 0.034109423167409635\n",
      "a and b are significandly different\n"
     ]
    }
   ],
   "source": [
    "stat, p_val=ss.ttest_rel(a,b)\n",
    "print(\"p-value for a and b:\", p_val)\n",
    "if p_val<0.05:\n",
    "    print(\"a and b are significandly different\")\n",
    "else:\n",
    "    print(\"Difference is not significant\")"
   ]
  },
  {
   "cell_type": "markdown",
   "metadata": {},
   "source": [
    "Check the pages in scipy.stats. Notice, there are two functions for t-test. One is unpaired (this one), another one is paired. There are also conditions for shapes, missing values etc. You are responsible for correct use of those functions. Do not use them blindly.\n",
    "\n",
    "For instance, t-test and many other classic test belong to the family of \"parametric\" tests, in other worlds they assume normally distributed data. In biology, we typically use those tests without much thinking whether the data are really normally distributed. Ironically, it is rarely the case, we either have too small data to check, or we have it big, but they are rarely normal, and we often ignore the revealed deviations from normality.\n",
    "\n",
    "In this particular example, the amount of data is very small. But if you deal with big data, always check them for normality before you use parametric tests. \n",
    "\n",
    "Alternatively, use non-parametric tests, which do not rely on the assumption of normality. You can try Mann-Whitney test (although the size of each samples should be at least 20), or it can be Wilcoxon test (it is equivalent to a paired t-test), and so on. Here is an example with Mann-Whitney test:"
   ]
  },
  {
   "cell_type": "code",
   "execution_count": 5,
   "metadata": {},
   "outputs": [
    {
     "name": "stdout",
     "output_type": "stream",
     "text": [
      "0.05524601202783401\n"
     ]
    }
   ],
   "source": [
    "stats, p_val=ss.mannwhitneyu(a,b)\n",
    "print(p_val)"
   ]
  },
  {
   "cell_type": "markdown",
   "metadata": {},
   "source": [
    "**Parametric or Non-parametric?**\n",
    "If you work with a small data sets, which is very often the case in cell biology, then non-parametric test is more reliable, because you simply do not have to hypothesise on the structure of your data. \n",
    "Note there are tests for normality included in the same scipy package. If sample is big enough you can use those tests. For instance"
   ]
  },
  {
   "cell_type": "code",
   "execution_count": 6,
   "metadata": {},
   "outputs": [
    {
     "data": {
      "image/png": "[encoded data removed]",
      "text/plain": [
       "<Figure size 432x288 with 2 Axes>"
      ]
     },
     "metadata": {
      "needs_background": "light"
     },
     "output_type": "display_data"
    }
   ],
   "source": [
    "import numpy as np, matplotlib.pyplot as plt\n",
    "data=np.random.normal(size=100, loc=10, scale=5) #generates data with average=10, stdev=5\n",
    "plt.subplot(121)\n",
    "plt.plot(data)\n",
    "plt.subplot(122)\n",
    "plt.hist(data);"
   ]
  },
  {
   "cell_type": "markdown",
   "metadata": {},
   "source": [
    "A brief note to the way we make the normally distributed data. Here we used a numpy package, function random.normal. Within numpy.random  there are lots of other distributions, which you can use. Simply check those pages (like https://docs.scipy.org/doc/numpy-1.14.0/reference/routines.random.html) You can also try random package for different kinds of random data (import random)."
   ]
  },
  {
   "cell_type": "code",
   "execution_count": 7,
   "metadata": {},
   "outputs": [
    {
     "name": "stdout",
     "output_type": "stream",
     "text": [
      "0.16415896169741073\n"
     ]
    }
   ],
   "source": [
    "#data look quite \"normal\", let's use some test for normality\n",
    "stats, p_val= ss.normaltest(data)\n",
    "print(p_val)\n",
    "if p_val<0.05:\n",
    "    print(\"data are normally distributed\")"
   ]
  },
  {
   "cell_type": "markdown",
   "metadata": {},
   "source": [
    "Note, however, if you data size is small, even normally distributed data run a risk to fail the test."
   ]
  },
  {
   "cell_type": "code",
   "execution_count": 15,
   "metadata": {},
   "outputs": [
    {
     "name": "stdout",
     "output_type": "stream",
     "text": [
      "0.22172416316798949\n"
     ]
    },
    {
     "name": "stderr",
     "output_type": "stream",
     "text": [
      "/usr/local/lib/python3.8/dist-packages/scipy/stats/stats.py:1449: UserWarning: kurtosistest only valid for n>=20 ... continuing anyway, n=10\n",
      "  warnings.warn(\"kurtosistest only valid for n>=20 ... continuing \"\n"
     ]
    }
   ],
   "source": [
    "#reduce the size of the data by taking first 10 values\n",
    "stats, p_val= ss.normaltest(data[:10])\n",
    "print(p_val)\n",
    "if p_val<0.05:\n",
    "    print(\"data are normally distributed\")"
   ]
  },
  {
   "cell_type": "markdown",
   "metadata": {},
   "source": [
    "Very likely you will not see the statement, that the data are normally distributed, also you will see the warning that sample size is too small. What is to learn here? Avoid small sample sizes, try to collect enough data points in your experiemts even if data collection is boring and time consimung."
   ]
  },
  {
   "cell_type": "markdown",
   "metadata": {},
   "source": [
    "In some cases, like expression microarrays, data are nearly normal (after filtering and log-transformation), and it is already demonstrated by others. Then you can use parametric tests with confidence, that you do not make serious mistake in assuming normally distributed data.\n",
    "\n",
    "Here are some other simple examples when and what to use.\n",
    "<h3>Comparing two curves, what kind of test to use?</h3>\n",
    "This is frequently asked question on the internet, and also in the lab. You cannot treat two curves as two data sets and apply for instance paired t-test. However, Wilcoxon test works nicely, and it is appropriate for this."
   ]
  },
  {
   "cell_type": "code",
   "execution_count": 8,
   "metadata": {},
   "outputs": [
    {
     "data": {
      "text/plain": [
       "Text(0.5, 1.0, 'Compare two growth curves')"
      ]
     },
     "execution_count": 8,
     "metadata": {},
     "output_type": "execute_result"
    },
    {
     "data": {
      "image/png": "[encoded data removed]",
      "text/plain": [
       "<Figure size 432x288 with 1 Axes>"
      ]
     },
     "metadata": {
      "needs_background": "light"
     },
     "output_type": "display_data"
    }
   ],
   "source": [
    "ex1=[0.5,0.9,1,1,2,4,7,8,9]\n",
    "ex2=[0.1,0.4,0.9,1,1.5,3,8,8,8]\n",
    "time=range(len(ex1))\n",
    "plt.plot(time,ex1)\n",
    "plt.plot(time,ex2)\n",
    "plt.title(\"Compare two growth curves\")"
   ]
  },
  {
   "cell_type": "code",
   "execution_count": 9,
   "metadata": {},
   "outputs": [
    {
     "name": "stdout",
     "output_type": "stream",
     "text": [
      "trends are not different\n",
      "0.05524601202783401\n"
     ]
    },
    {
     "name": "stderr",
     "output_type": "stream",
     "text": [
      "/usr/local/lib/python3.8/dist-packages/scipy/stats/morestats.py:2863: UserWarning: Sample size too small for normal approximation.\n",
      "  warnings.warn(\"Sample size too small for normal approximation.\")\n"
     ]
    }
   ],
   "source": [
    "#are those two trends statistically different?\n",
    "stat, p_value=ss.wilcoxon(ex1,ex2)\n",
    "if p_val>0.05:\n",
    "    print(\"trends are not different\")\n",
    "print(p_val)"
   ]
  },
  {
   "cell_type": "markdown",
   "metadata": {},
   "source": [
    "There are some confusions regarding significance of the test and effect size. Trends can be significantly different even if the quantitative difference between them is very small. p-value follows the consistency of one curve being above the other. However it does not judge the quantitative difference between two curves. You should report it separately, for instance as mean difference, and make your opinion, whether you think the difference is big enough to be biologically significant. \n",
    "\n",
    "<h3> Correlations</h3>\n",
    "There are two major kinds of correlations used in biology, Pearson and Spearman. Pearson correlation is quantitative, it means the bigger values in the group will have a bigger influence to the outcome. This type of correlation is relevant if data are well scattered across all values (no clutter at some particular range or outliers), and if you can see a good linearity between values you want to correlate. It is always helpful to visualise those groups of data you want to check for correlation.\n",
    "For instance we can correlate growth curves used above, also check for linearity."
   ]
  },
  {
   "cell_type": "code",
   "execution_count": 12,
   "metadata": {},
   "outputs": [
    {
     "data": {
      "image/png": "[encoded data removed]",
      "text/plain": [
       "<Figure size 432x288 with 1 Axes>"
      ]
     },
     "metadata": {
      "needs_background": "light"
     },
     "output_type": "display_data"
    }
   ],
   "source": [
    "plt.plot(ex1, ex2, \"o-\");"
   ]
  },
  {
   "cell_type": "markdown",
   "metadata": {},
   "source": [
    "We see that data ponts are vell scattered along the range, also no signs of curvature revealed"
   ]
  },
  {
   "cell_type": "code",
   "execution_count": 14,
   "metadata": {},
   "outputs": [
    {
     "name": "stdout",
     "output_type": "stream",
     "text": [
      "significance of Pearson 1.3389952023153184e-06\n",
      "R 0.9850072014778637\n"
     ]
    }
   ],
   "source": [
    "#try pearson correlation\n",
    "r, p=ss.pearsonr(ex1, ex2)\n",
    "print(\"significance of Pearson\", p)\n",
    "print(\"R\", r)"
   ]
  },
  {
   "cell_type": "markdown",
   "metadata": {},
   "source": [
    "You see that r-value is close to 1, meaning nearly 1 to 1 positive correlation, the p-value is low, the correlation is significant. Pearson correlation is comparable with linear regression. P-value for linear regression is identical to pearson. In addition, you get coefficients for the linear function which can be used to draw the plot."
   ]
  },
  {
   "cell_type": "code",
   "execution_count": 17,
   "metadata": {},
   "outputs": [
    {
     "name": "stdout",
     "output_type": "stream",
     "text": [
      "significance of regression 1.338995202315249e-06\n",
      "slope and intercept 1.0164085061695984 -0.33867156734050985\n"
     ]
    }
   ],
   "source": [
    "#this function returns many more parameters\n",
    "slope, intercept, r_value, p_value, std_err = ss.linregress(ex1, ex2)\n",
    "print(\"significance of regression\", p_value)\n",
    "print(\"slope and intercept\", slope, intercept)"
   ]
  },
  {
   "cell_type": "code",
   "execution_count": 20,
   "metadata": {},
   "outputs": [
    {
     "data": {
      "image/png": "[encoded data removed]",
      "text/plain": [
       "<Figure size 432x288 with 1 Axes>"
      ]
     },
     "metadata": {
      "needs_background": "light"
     },
     "output_type": "display_data"
    }
   ],
   "source": [
    "#with known slope and intercept generate new y=values\n",
    "new_y=[x*slope + intercept for x in ex1]\n",
    "plt.scatter(ex1,ex2, c=\"black\")\n",
    "plt.plot(ex1,new_y, c=\"red\");"
   ]
  },
  {
   "cell_type": "markdown",
   "metadata": {},
   "source": [
    "The plot generally confirms that linear approximation fits well to the data. Besides, you know how to draw the line through the data points.\n",
    "\n",
    "There is nothing wrong to try spearman correlation for the same data. The p-values can be different, but in a good case, it should be close to one another. It will also mean, that the correlation is real and not dependent on the method of choice."
   ]
  },
  {
   "cell_type": "code",
   "execution_count": 22,
   "metadata": {},
   "outputs": [
    {
     "name": "stdout",
     "output_type": "stream",
     "text": [
      "Corr, p_value for spearman correlation 0.9788031651192812 4.471996762008369e-06\n",
      "correlation is significant\n"
     ]
    }
   ],
   "source": [
    "corr, p_val= ss.spearmanr(ex1,ex2)\n",
    "print(\"Corr, p_value for spearman correlation\", corr, p_val)\n",
    "if p_val<0.05:\n",
    "    print(\"correlation is significant\")"
   ]
  },
  {
   "cell_type": "markdown",
   "metadata": {},
   "source": [
    "Lets tray some other data, where pearson and spearman correlations will be substantially different. For this we make two sets of data with non-linear relations."
   ]
  },
  {
   "cell_type": "code",
   "execution_count": 10,
   "metadata": {},
   "outputs": [
    {
     "name": "stdout",
     "output_type": "stream",
     "text": [
      "x [0, 2, 4, 6, 8]\n",
      "y [0, 8, 64, 216, 512]\n"
     ]
    },
    {
     "data": {
      "image/png": "[encoded data removed]",
      "text/plain": [
       "<Figure size 432x288 with 1 Axes>"
      ]
     },
     "metadata": {
      "needs_background": "light"
     },
     "output_type": "display_data"
    }
   ],
   "source": [
    "x=list(range(0,10,2)) #this is ow you make a regular range of data through start and stop values\n",
    "y=[val**3 for val in x] #make y as function of x power 3.\n",
    "print(\"x\", x)\n",
    "print('y',y)\n",
    "plt.scatter(x,y);"
   ]
  },
  {
   "cell_type": "code",
   "execution_count": 35,
   "metadata": {},
   "outputs": [
    {
     "name": "stdout",
     "output_type": "stream",
     "text": [
      "pearson p-value 0.03416742881503284\n",
      "spearman p_value 1.4042654220543672e-24\n"
     ]
    }
   ],
   "source": [
    "r, pearson_p=ss.pearsonr(x,y)\n",
    "print(\"pearson p-value\", pearson_p)\n",
    "corr, spearman_p=ss.spearmanr(x,y)\n",
    "print(\"spearman p_value\", spearman_p)"
   ]
  },
  {
   "cell_type": "markdown",
   "metadata": {},
   "source": [
    "Here you see, that significance for pearson and spearman differ dramatically. In such cases (when data are not in linear relation) pearson correlation should not be used. But do *x* and *y* correlate? Yes.\n",
    "Why spearman correlation works with non-linear data? Spearman correlation checks the ranks within data series and ignores the real values. Therefore (non)linearity does not make an effect.\n",
    "There is one more correlation based on ranks, Kendall. However, it is rarely used in biology. I cannot explain why."
   ]
  },
  {
   "cell_type": "code",
   "execution_count": 36,
   "metadata": {},
   "outputs": [
    {
     "name": "stdout",
     "output_type": "stream",
     "text": [
      "kendall p_value 0.016666666666666666\n"
     ]
    }
   ],
   "source": [
    "tau, kendall_p=ss.kendalltau(x,y)\n",
    "print(\"kendall p_value\", kendall_p)"
   ]
  },
  {
   "cell_type": "markdown",
   "metadata": {},
   "source": [
    "Note, that kendall test is considered as more conservative test compared to spearman, and less sensitive to errors and outliers. Spearman correlation is sensitive to redundant data and null values. You can check it yourself. Just add to x and y null data and see whether spearman p-value will change."
   ]
  },
  {
   "cell_type": "code",
   "execution_count": 15,
   "metadata": {},
   "outputs": [
    {
     "name": "stdout",
     "output_type": "stream",
     "text": [
      "x: [1, 3, 2]\n",
      "y: [3, 2, 2]\n",
      "Added zeros 0 spearman p_value 0.3333333333333332\n",
      "x: [1, 3, 2, 0]\n",
      "y: [3, 2, 2, 0]\n",
      "Added zeros 1 spearman p_value 0.683772233983162\n",
      "x: [1, 3, 2, 0, 0]\n",
      "y: [3, 2, 2, 0, 0]\n",
      "Added zeros 2 spearman p_value 0.23615367738664056\n",
      "x: [1, 3, 2, 0, 0, 0]\n",
      "y: [3, 2, 2, 0, 0, 0]\n",
      "Added zeros 3 spearman p_value 0.06322683843505035\n",
      "x: [1, 3, 2, 0, 0, 0, 0]\n",
      "y: [3, 2, 2, 0, 0, 0, 0]\n",
      "Added zeros 4 spearman p_value 0.013685322211787308\n"
     ]
    }
   ],
   "source": [
    "x,y=[1,3,2],[3,2,2]\n",
    "for i in range(5):\n",
    "    print(\"x:\", x)\n",
    "    print(\"y:\", y)\n",
    "    corr, spearman_p=ss.spearmanr(x,y)\n",
    "    print(\"Added zeros\", i, \"spearman p_value\", spearman_p)\n",
    "    x.append(0)\n",
    "    y.append(0)"
   ]
  },
  {
   "cell_type": "markdown",
   "metadata": {},
   "source": [
    "As you can see, the p-values are decreasing with added zero values. Careful with your data, if they contain many zeros. Those zeros will inflate significance of you result, and they should be filtered off before correlation analysis.\n",
    "\n",
    "This is probably the end of the introduction to the elementary use of the scipy package in estimation of significance in the biological data. As I said, the real numbe of real cases is endless and hard to cover. It is importand to understand the principle, where you find those functions and how you use them. The rest is up to everyone. I will add more scripts and subjects in my free time, and I will try to be simple as usual."
   ]
  },
  {
   "cell_type": "code",
   "execution_count": null,
   "metadata": {},
   "outputs": [],
   "source": []
  }
 ],
 "metadata": {
  "kernelspec": {
   "display_name": "Python 3",
   "language": "python",
   "name": "python3"
  },
  "language_info": {
   "codemirror_mode": {
    "name": "ipython",
    "version": 3
   },
   "file_extension": ".py",
   "mimetype": "text/x-python",
   "name": "python",
   "nbconvert_exporter": "python",
   "pygments_lexer": "ipython3",
   "version": "3.8.2"
  }
 },
 "nbformat": 4,
 "nbformat_minor": 4
}
