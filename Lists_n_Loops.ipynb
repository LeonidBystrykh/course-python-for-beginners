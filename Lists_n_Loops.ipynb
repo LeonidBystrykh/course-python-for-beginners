{
 "cells": [
  {
   "cell_type": "markdown",
   "metadata": {},
   "source": [
    "Lists and list of lists are very frequently used elements of the script.\n",
    "Although there is no logical connection between lists and loops, they are often used in close relations in the scripts.\n",
    "I know 3 types of loops, and use mostly two of them. Note that python is a language which uses tabulation as informative element, namely defining loop structures.\n",
    "Lets check loop by counter, which is usually defined by single letter, like \"i\", \"j\", \"k\", \"m\", \"n\". Note that letter \"l\" is not easy to recognise as \"l\", and therefore not used to avoid possible confusions."
   ]
  },
  {
   "cell_type": "code",
   "execution_count": 1,
   "metadata": {},
   "outputs": [
    {
     "name": "stdout",
     "output_type": "stream",
     "text": [
      "0\n",
      "1\n",
      "2\n",
      "3\n",
      "4\n"
     ]
    }
   ],
   "source": [
    "for i in range(5):\n",
    "    print(i)"
   ]
  },
  {
   "cell_type": "markdown",
   "metadata": {},
   "source": [
    "Note, that python counts from 0, therefore the upper limit defines number of loops (or elements called), but loop stops before the indicated value. If loop counts from 0, then 0 can be skipped, but you can count from any number, and indicate that pair as following"
   ]
  },
  {
   "cell_type": "code",
   "execution_count": 6,
   "metadata": {},
   "outputs": [
    {
     "name": "stdout",
     "output_type": "stream",
     "text": [
      "3\n",
      "4\n",
      "5\n",
      "6\n",
      "7\n"
     ]
    }
   ],
   "source": [
    "for i in range(3,8):\n",
    "    print(i)"
   ]
  },
  {
   "cell_type": "markdown",
   "metadata": {},
   "source": [
    "The counter cannot be negative or float. This way you can call elements from one or several lists"
   ]
  },
  {
   "cell_type": "code",
   "execution_count": 7,
   "metadata": {},
   "outputs": [
    {
     "name": "stdout",
     "output_type": "stream",
     "text": [
      "0 10 one\n",
      "1 20 two\n",
      "2 30 three\n",
      "3 40 four\n"
     ]
    }
   ],
   "source": [
    "names=[\"one\",\"two\",\"three\",\"four\"]\n",
    "ints=[10,20,30,40]\n",
    "for i in range(len(names)):\n",
    "    print(i, ints[i], names[i])"
   ]
  },
  {
   "cell_type": "markdown",
   "metadata": {},
   "source": [
    "The second loop I actively use is calling elements directly without naming counter. You can simply write like that:"
   ]
  },
  {
   "cell_type": "code",
   "execution_count": 8,
   "metadata": {},
   "outputs": [
    {
     "name": "stdout",
     "output_type": "stream",
     "text": [
      "10 100 1.0\n",
      "20 200 2.0\n",
      "30 300 3.0\n",
      "40 400 4.0\n"
     ]
    }
   ],
   "source": [
    "for number in ints:\n",
    "    print(number, number*10, number/10)"
   ]
  },
  {
   "cell_type": "markdown",
   "metadata": {},
   "source": [
    "The third loop is \"while\" loop, which will loop as long as \"while\" condition holds. This is a danger of the loop. Make sure it has a chance to exit."
   ]
  },
  {
   "cell_type": "code",
   "execution_count": 9,
   "metadata": {},
   "outputs": [
    {
     "name": "stdout",
     "output_type": "stream",
     "text": [
      "0\n",
      "1\n",
      "2\n",
      "3\n",
      "4\n",
      "5\n",
      "6\n",
      "7\n",
      "8\n",
      "9\n"
     ]
    }
   ],
   "source": [
    "i=0\n",
    "while i<10:\n",
    "    print(i)\n",
    "    i+=1"
   ]
  },
  {
   "cell_type": "markdown",
   "metadata": {},
   "source": [
    "Note, that if you forget to add increment line (i+=1 means i=i+1), this loop will run forever.\n"
   ]
  },
  {
   "cell_type": "markdown",
   "metadata": {},
   "source": [
    "As I said, lists are naturally connected to loops. You can build a list by using function *append"
   ]
  },
  {
   "cell_type": "code",
   "execution_count": 10,
   "metadata": {},
   "outputs": [
    {
     "name": "stdout",
     "output_type": "stream",
     "text": [
      "[0]\n",
      "[0, 1]\n",
      "[0, 1, 2]\n",
      "[0, 1, 2, 3]\n",
      "[0, 1, 2, 3, 4]\n"
     ]
    }
   ],
   "source": [
    "x=[]\n",
    "for i in range(5):\n",
    "    x.append(i)\n",
    "    print(x)"
   ]
  },
  {
   "cell_type": "markdown",
   "metadata": {},
   "source": [
    "Note, that print stays in the loop, therefore it prints every time you go through the loop. Here is a case of loop in loop"
   ]
  },
  {
   "cell_type": "code",
   "execution_count": 13,
   "metadata": {},
   "outputs": [
    {
     "name": "stdout",
     "output_type": "stream",
     "text": [
      "[5, 6, 7, 8, 9, 6, 7, 8, 9, 10, 7, 8, 9, 10, 11, 8, 9, 10, 11, 12, 9, 10, 11, 12, 13]\n"
     ]
    }
   ],
   "source": [
    "y=[]\n",
    "for i in range(5):\n",
    "    for j in range(5,10):\n",
    "        y.append(i+j)\n",
    "print(y)"
   ]
  },
  {
   "cell_type": "markdown",
   "metadata": {},
   "source": [
    "there is one more expression, which is a kind of a loop, and it is often used for selecting a subset of data. It looks like the following:"
   ]
  },
  {
   "cell_type": "code",
   "execution_count": 15,
   "metadata": {},
   "outputs": [
    {
     "name": "stdout",
     "output_type": "stream",
     "text": [
      "high values [10, 10, 11, 10, 11, 12, 10, 11, 12, 13]\n",
      "low values [5, 6, 7, 8, 9, 6, 7, 8, 9, 7, 8, 9, 8, 9, 9]\n"
     ]
    }
   ],
   "source": [
    "high=[x for x in y if x>=10]\n",
    "low=[x for x in y if x<10]\n",
    "print(\"high values\", high)\n",
    "print(\"low values\", low)"
   ]
  },
  {
   "cell_type": "markdown",
   "metadata": {},
   "source": [
    "With these loops we can do addition, subtraction and other operations with lists as we define.\n",
    "For instance we can define subtract each element of the list1 from each element of list2 (provided their lengthes are equal)"
   ]
  },
  {
   "cell_type": "code",
   "execution_count": 17,
   "metadata": {},
   "outputs": [],
   "source": [
    "list1=[1,2,3,4]\n",
    "list2=[2,3,4,5]\n",
    "def subtract(a,b):\n",
    "    if len(a)==len(b):\n",
    "        new=[]\n",
    "        for i in range(len(a)):\n",
    "            new.append(a[i]-b[i])\n",
    "    return(new)\n",
    "            "
   ]
  },
  {
   "cell_type": "markdown",
   "metadata": {},
   "source": [
    "Here you also see how you make your own functions. They always begin with **def** and end with **return**. You also define what is in the input and in the output of them. Below we will use this newly made function"
   ]
  },
  {
   "cell_type": "code",
   "execution_count": 18,
   "metadata": {},
   "outputs": [
    {
     "data": {
      "text/plain": [
       "[-1, -1, -1, -1]"
      ]
     },
     "execution_count": 18,
     "metadata": {},
     "output_type": "execute_result"
    }
   ],
   "source": [
    "subtract(list1,list2)"
   ]
  },
  {
   "cell_type": "markdown",
   "metadata": {},
   "source": [
    "Surely, we can define subtraction other way, more like elements in list1 which are not in the list2. To do so we write something like"
   ]
  },
  {
   "cell_type": "code",
   "execution_count": 19,
   "metadata": {},
   "outputs": [
    {
     "name": "stdout",
     "output_type": "stream",
     "text": [
      "unique in list1 [1]\n"
     ]
    }
   ],
   "source": [
    "unique1=[x for x in list1 if x not in list2]\n",
    "print(\"unique in list1\", unique1)"
   ]
  },
  {
   "cell_type": "markdown",
   "metadata": {},
   "source": [
    "Note, that numpy package contains many functions, which can be applied for entire lists without calling them one in a time. For instance *power* finction"
   ]
  },
  {
   "cell_type": "code",
   "execution_count": 21,
   "metadata": {},
   "outputs": [
    {
     "name": "stdout",
     "output_type": "stream",
     "text": [
      "list1 power of 2 [ 1  4  9 16]\n"
     ]
    }
   ],
   "source": [
    "import numpy as np\n",
    "print(\"list1 power of 2\", np.power(list1,2))"
   ]
  },
  {
   "cell_type": "markdown",
   "metadata": {},
   "source": [
    "Also numpy contains many other useful functions. You can easily ask for average, min and max values in your lists"
   ]
  },
  {
   "cell_type": "code",
   "execution_count": 23,
   "metadata": {},
   "outputs": [
    {
     "name": "stdout",
     "output_type": "stream",
     "text": [
      "max 4\n",
      "average 2.5\n",
      "min 1\n"
     ]
    }
   ],
   "source": [
    "print(\"max\", np.max(list1))\n",
    "print(\"average\", np.mean(list1))\n",
    "print(\"min\", np.min(list1))"
   ]
  },
  {
   "cell_type": "markdown",
   "metadata": {},
   "source": [
    "Inquire numpy for other options and use them when you need. Do not invent something trivial, spare your energy for real challenges."
   ]
  }
 ],
 "metadata": {
  "kernelspec": {
   "display_name": "Python 3",
   "language": "python",
   "name": "python3"
  },
  "language_info": {
   "codemirror_mode": {
    "name": "ipython",
    "version": 3
   },
   "file_extension": ".py",
   "mimetype": "text/x-python",
   "name": "python",
   "nbconvert_exporter": "python",
   "pygments_lexer": "ipython3",
   "version": "3.7.4"
  }
 },
 "nbformat": 4,
 "nbformat_minor": 4
}
